{
 "cells": [
  {
   "cell_type": "markdown",
   "metadata": {
    "id": "AQzYGMVl4-1n"
   },
   "source": [
    "# Assignment 3"
   ]
  },
  {
   "cell_type": "markdown",
   "metadata": {
    "id": "Dloey_mk4-1q"
   },
   "source": [
    "## Guidelines\n",
    "\n",
    "> Remember to add an explanation of what you do using markdown, and to comment your code. Please *be brief*.\n",
    ">\n",
    "> If you re-use a substantial portion of code you find online, e.g on Stackoverflow, you need to add a link to it and make the borrowing explicit. The same applies of you take it and modify it, even substantially. There is nothing bad in doing that, providing you are acknowledging it and make it clear you know what you're doing.\n",
    ">\n",
    "> Make sure your notebooks have been run when you sumit, as I won't run them myself. Submit both the `.ipynb` file along with an `.html` export of the same. Submit all necessary auxilliary files as well. Please compress your submission into a `.zip` archive. Only `.zip` files can be submitted."
   ]
  },
  {
   "cell_type": "markdown",
   "metadata": {
    "id": "zfy-TozC4-1s"
   },
   "source": [
    "## Grading policy\n",
    "> As follows:\n",
    ">\n",
    "> * 80 points for correctly completing the assignment.\n",
    ">\n",
    "> * 20 points for appropriately writing and organizing your code in terms of structure, readibility (also by humans), comments and minimal documentation. It is important to be concise but also to explain what you did and why, when not obvious.\n",
    "> \n",
    "> Note that there are no extras for this assignment, as all 100 points are accrued via questions. \n",
    "\n",
    "**The AUC code of conduct applies to this assignment: please only submit your own work.**"
   ]
  },
  {
   "cell_type": "markdown",
   "metadata": {
    "id": "qRnI9EF74-1t"
   },
   "source": [
    "---"
   ]
  },
  {
   "cell_type": "markdown",
   "metadata": {
    "id": "MmAFtiS14-1u"
   },
   "source": [
    "# Introduction\n",
    "\n",
    "In this assignment, you will build and compare classifiers for measuring the **sentiment of tweets related to COVID-19**.\n",
    "\n",
    "The dataset you will work with is [publicly available in Kaggle](https://www.kaggle.com/datatattle/covid-19-nlp-text-classification) (and attached to the assignment for your convenience). Make sure to check its minimal Kaggle documentation before starting.\n",
    "\n",
    "This is a real dataset, and therefore messy. It is possible that you won't achieve great results on the classification task with your classifier. That is normal, don't worry about it! You also may find text encoding issues with this dataset. Try to find a simple solution to this problem, I don't think there is an easy way to fix it completely for these files.\n",
    "\n",
    "*Please note: this dataset should not but might contain content which could be considered as offensive.*"
   ]
  },
  {
   "cell_type": "markdown",
   "metadata": {
    "id": "Rv4avAae4-1v"
   },
   "source": [
    "---"
   ]
  },
  {
   "cell_type": "markdown",
   "metadata": {
    "id": "TTwyDa3M4-1v"
   },
   "source": [
    "# Skeleton pipeline (25 points)"
   ]
  },
  {
   "cell_type": "markdown",
   "metadata": {
    "id": "nXgFtpSY4-1x"
   },
   "source": [
    "## Question 1 (10 points)\n",
    "\n",
    "Your dataset contains tweets, including handlers, hashtags, URLs, etc. Set-up a **minimal pre-processing pipeline** for them (focus on the `OriginalTweet` column), possibly including:\n",
    "\n",
    "* Tokenization\n",
    "* Filtering\n",
    "* Lemmatization/Stemming\n",
    "\n",
    "Please note that what to include is up to you, motivate your choices and remember that more is not necessarily better: if you are not sure why you are doing something, it might be better not to. Feel free to use NLTK, spaCy or anything else you like here."
   ]
  },
  {
   "cell_type": "code",
   "execution_count": 1,
   "metadata": {
    "id": "x0DzGcra4-1x"
   },
   "outputs": [],
   "source": [
    "import pandas as pd"
   ]
  },
  {
   "cell_type": "code",
   "execution_count": 2,
   "metadata": {
    "id": "WZ2OPwtS4-10"
   },
   "outputs": [],
   "source": [
    "df_train = pd.read_csv(\"data/Corona_NLP_train.csv\", encoding=\"ISO-8859-1\")"
   ]
  },
  {
   "cell_type": "code",
   "execution_count": 3,
   "metadata": {
    "id": "NX9JD8-64-11",
    "outputId": "364b106d-3110-4615-9d22-64c418544405"
   },
   "outputs": [
    {
     "data": {
      "text/html": [
       "<div>\n",
       "<style scoped>\n",
       "    .dataframe tbody tr th:only-of-type {\n",
       "        vertical-align: middle;\n",
       "    }\n",
       "\n",
       "    .dataframe tbody tr th {\n",
       "        vertical-align: top;\n",
       "    }\n",
       "\n",
       "    .dataframe thead th {\n",
       "        text-align: right;\n",
       "    }\n",
       "</style>\n",
       "<table border=\"1\" class=\"dataframe\">\n",
       "  <thead>\n",
       "    <tr style=\"text-align: right;\">\n",
       "      <th></th>\n",
       "      <th>UserName</th>\n",
       "      <th>ScreenName</th>\n",
       "      <th>Location</th>\n",
       "      <th>TweetAt</th>\n",
       "      <th>OriginalTweet</th>\n",
       "      <th>Sentiment</th>\n",
       "    </tr>\n",
       "  </thead>\n",
       "  <tbody>\n",
       "    <tr>\n",
       "      <th>0</th>\n",
       "      <td>3799</td>\n",
       "      <td>48751</td>\n",
       "      <td>London</td>\n",
       "      <td>16-03-2020</td>\n",
       "      <td>@MeNyrbie @Phil_Gahan @Chrisitv https://t.co/i...</td>\n",
       "      <td>Neutral</td>\n",
       "    </tr>\n",
       "    <tr>\n",
       "      <th>1</th>\n",
       "      <td>3800</td>\n",
       "      <td>48752</td>\n",
       "      <td>UK</td>\n",
       "      <td>16-03-2020</td>\n",
       "      <td>advice Talk to your neighbours family to excha...</td>\n",
       "      <td>Positive</td>\n",
       "    </tr>\n",
       "    <tr>\n",
       "      <th>2</th>\n",
       "      <td>3801</td>\n",
       "      <td>48753</td>\n",
       "      <td>Vagabonds</td>\n",
       "      <td>16-03-2020</td>\n",
       "      <td>Coronavirus Australia: Woolworths to give elde...</td>\n",
       "      <td>Positive</td>\n",
       "    </tr>\n",
       "    <tr>\n",
       "      <th>3</th>\n",
       "      <td>3802</td>\n",
       "      <td>48754</td>\n",
       "      <td>NaN</td>\n",
       "      <td>16-03-2020</td>\n",
       "      <td>My food stock is not the only one which is emp...</td>\n",
       "      <td>Positive</td>\n",
       "    </tr>\n",
       "    <tr>\n",
       "      <th>4</th>\n",
       "      <td>3803</td>\n",
       "      <td>48755</td>\n",
       "      <td>NaN</td>\n",
       "      <td>16-03-2020</td>\n",
       "      <td>Me, ready to go at supermarket during the #COV...</td>\n",
       "      <td>Extremely Negative</td>\n",
       "    </tr>\n",
       "  </tbody>\n",
       "</table>\n",
       "</div>"
      ],
      "text/plain": [
       "   UserName  ScreenName   Location     TweetAt  \\\n",
       "0      3799       48751     London  16-03-2020   \n",
       "1      3800       48752         UK  16-03-2020   \n",
       "2      3801       48753  Vagabonds  16-03-2020   \n",
       "3      3802       48754        NaN  16-03-2020   \n",
       "4      3803       48755        NaN  16-03-2020   \n",
       "\n",
       "                                       OriginalTweet           Sentiment  \n",
       "0  @MeNyrbie @Phil_Gahan @Chrisitv https://t.co/i...             Neutral  \n",
       "1  advice Talk to your neighbours family to excha...            Positive  \n",
       "2  Coronavirus Australia: Woolworths to give elde...            Positive  \n",
       "3  My food stock is not the only one which is emp...            Positive  \n",
       "4  Me, ready to go at supermarket during the #COV...  Extremely Negative  "
      ]
     },
     "execution_count": 3,
     "metadata": {},
     "output_type": "execute_result"
    }
   ],
   "source": [
    "df_train.head()"
   ]
  },
  {
   "cell_type": "markdown",
   "metadata": {
    "id": "jcGyC86g4-13"
   },
   "source": [
    "*Note: we only really use the `OriginalTweet` and `Sentiment` columns for this assignment.*"
   ]
  },
  {
   "cell_type": "code",
   "execution_count": 4,
   "metadata": {
    "id": "AbGfZgBN4-14"
   },
   "outputs": [],
   "source": [
    "# your code here\n",
    "import nltk\n",
    "from nltk.tokenize import TweetTokenizer\n",
    "from nltk.corpus import wordnet as wn\n",
    "from sklearn.feature_extraction.text import CountVectorizer\n",
    "from sklearn.feature_extraction.text import TfidfVectorizer\n",
    "\n",
    "# Use TweetTokenizer to ensure reasonable tokenization for tweets\n",
    "tknzr = TweetTokenizer(preserve_case=False, reduce_len=False, strip_handles=False)\n",
    "lemmatizer = nltk.WordNetLemmatizer()\n",
    "\n",
    "# Define a preprocessing function and use it as a parameter\n",
    "# later when using sklearn vectorizer: here I only do lower-casify and lemmatization\n",
    "# as some special symbols may mean something in tweets\n",
    "# stopwords can be excluded in sklearn vectorizer parameters as well\n",
    "def lemmatize_processor(text):\n",
    "    un2wn_mapping = {\"VERB\" : wn.VERB, \"NOUN\" : wn.NOUN, \"ADJ\" : wn.ADJ, \"ADV\" : wn.ADV}\n",
    "    text_lemmatized = []\n",
    "    # tokenization based on sentences for a more accurate PoS tagging and lemmatization\n",
    "    sentences = nltk.sent_tokenize(text, language = 'english')\n",
    "    tokenized_sents = [nltk.word_tokenize(sent) for sent in sentences]\n",
    "    pos_sents = [nltk.pos_tag(token_sent,tagset = 'universal') for token_sent in tokenized_sents]\n",
    "    \n",
    "    for sentence in pos_sents:\n",
    "        lemmatized_sentence = []\n",
    "        for w, p in sentence:\n",
    "            if p in un2wn_mapping.keys():\n",
    "                lemma = lemmatizer.lemmatize(w.lower(), pos = un2wn_mapping[p])\n",
    "            else:\n",
    "                lemma = lemmatizer.lemmatize(w.lower())\n",
    "            lemmatized_sentence.append(lemma)\n",
    "        # Need to gurantee members of the list are strings and eventually joining together\n",
    "        text_lemmatized.append(' '.join(lemmatized_sentence))\n",
    "\n",
    "    return ' '.join(text_lemmatized)\n",
    "\n",
    "count_vectorizer = CountVectorizer(preprocessor=lemmatize_processor, tokenizer=tknzr.tokenize, stop_words='english')\n",
    "tfidf_vectorizer = TfidfVectorizer(preprocessor=lemmatize_processor, tokenizer=tknzr.tokenize, stop_words='english', use_idf=True, smooth_idf=True)"
   ]
  },
  {
   "cell_type": "code",
   "execution_count": 5,
   "metadata": {},
   "outputs": [
    {
     "name": "stdout",
     "output_type": "stream",
     "text": [
      "(41157,) (41157,) 41157\n"
     ]
    },
    {
     "data": {
      "text/html": [
       "<div>\n",
       "<style scoped>\n",
       "    .dataframe tbody tr th:only-of-type {\n",
       "        vertical-align: middle;\n",
       "    }\n",
       "\n",
       "    .dataframe tbody tr th {\n",
       "        vertical-align: top;\n",
       "    }\n",
       "\n",
       "    .dataframe thead th {\n",
       "        text-align: right;\n",
       "    }\n",
       "</style>\n",
       "<table border=\"1\" class=\"dataframe\">\n",
       "  <thead>\n",
       "    <tr style=\"text-align: right;\">\n",
       "      <th></th>\n",
       "      <th>UserName</th>\n",
       "      <th>ScreenName</th>\n",
       "      <th>Location</th>\n",
       "      <th>TweetAt</th>\n",
       "      <th>OriginalTweet</th>\n",
       "      <th>Sentiment</th>\n",
       "      <th>Sentiment_label</th>\n",
       "    </tr>\n",
       "  </thead>\n",
       "  <tbody>\n",
       "    <tr>\n",
       "      <th>0</th>\n",
       "      <td>3799</td>\n",
       "      <td>48751</td>\n",
       "      <td>London</td>\n",
       "      <td>16-03-2020</td>\n",
       "      <td>@MeNyrbie @Phil_Gahan @Chrisitv https://t.co/i...</td>\n",
       "      <td>Neutral</td>\n",
       "      <td>0</td>\n",
       "    </tr>\n",
       "    <tr>\n",
       "      <th>1</th>\n",
       "      <td>3800</td>\n",
       "      <td>48752</td>\n",
       "      <td>UK</td>\n",
       "      <td>16-03-2020</td>\n",
       "      <td>advice Talk to your neighbours family to excha...</td>\n",
       "      <td>Positive</td>\n",
       "      <td>1</td>\n",
       "    </tr>\n",
       "    <tr>\n",
       "      <th>2</th>\n",
       "      <td>3801</td>\n",
       "      <td>48753</td>\n",
       "      <td>Vagabonds</td>\n",
       "      <td>16-03-2020</td>\n",
       "      <td>Coronavirus Australia: Woolworths to give elde...</td>\n",
       "      <td>Positive</td>\n",
       "      <td>1</td>\n",
       "    </tr>\n",
       "    <tr>\n",
       "      <th>3</th>\n",
       "      <td>3802</td>\n",
       "      <td>48754</td>\n",
       "      <td>NaN</td>\n",
       "      <td>16-03-2020</td>\n",
       "      <td>My food stock is not the only one which is emp...</td>\n",
       "      <td>Positive</td>\n",
       "      <td>1</td>\n",
       "    </tr>\n",
       "    <tr>\n",
       "      <th>4</th>\n",
       "      <td>3803</td>\n",
       "      <td>48755</td>\n",
       "      <td>NaN</td>\n",
       "      <td>16-03-2020</td>\n",
       "      <td>Me, ready to go at supermarket during the #COV...</td>\n",
       "      <td>Extremely Negative</td>\n",
       "      <td>-2</td>\n",
       "    </tr>\n",
       "  </tbody>\n",
       "</table>\n",
       "</div>"
      ],
      "text/plain": [
       "   UserName  ScreenName   Location     TweetAt  \\\n",
       "0      3799       48751     London  16-03-2020   \n",
       "1      3800       48752         UK  16-03-2020   \n",
       "2      3801       48753  Vagabonds  16-03-2020   \n",
       "3      3802       48754        NaN  16-03-2020   \n",
       "4      3803       48755        NaN  16-03-2020   \n",
       "\n",
       "                                       OriginalTweet           Sentiment  \\\n",
       "0  @MeNyrbie @Phil_Gahan @Chrisitv https://t.co/i...             Neutral   \n",
       "1  advice Talk to your neighbours family to excha...            Positive   \n",
       "2  Coronavirus Australia: Woolworths to give elde...            Positive   \n",
       "3  My food stock is not the only one which is emp...            Positive   \n",
       "4  Me, ready to go at supermarket during the #COV...  Extremely Negative   \n",
       "\n",
       "   Sentiment_label  \n",
       "0                0  \n",
       "1                1  \n",
       "2                1  \n",
       "3                1  \n",
       "4               -2  "
      ]
     },
     "execution_count": 5,
     "metadata": {},
     "output_type": "execute_result"
    }
   ],
   "source": [
    "Original_Tweet_trainfile = df_train['OriginalTweet'].values\n",
    "Sentiment_trainfile = df_train['Sentiment'].values\n",
    "\n",
    "# Encode sentiment rating into numeric labels for the training\n",
    "# (turns out no need for Log and SVM, as there is an innate transformation in log regression fit)\n",
    "sentiment_label_mapping = {'Extremely Negative': -2, 'Negative': -1, 'Neutral': 0, \n",
    "                           'Positive': 1, 'Extremely Positive': 2}\n",
    "\n",
    "def custom_label_encoding(label):\n",
    "    return sentiment_label_mapping[label]\n",
    "\n",
    "sentiment_encoded = [custom_label_encoding(label) for label in Sentiment_trainfile]\n",
    "\n",
    "# Add sentiment numeric labels to the dataframe and store it to a var\n",
    "df_train['Sentiment_label'] = sentiment_encoded\n",
    "Sentiment_label_train = df_train['Sentiment_label'].values\n",
    "\n",
    "print(Original_Tweet_trainfile.shape, Sentiment_trainfile.shape, len(sentiment_encoded))\n",
    "df_train.head()"
   ]
  },
  {
   "cell_type": "code",
   "execution_count": 6,
   "metadata": {},
   "outputs": [
    {
     "data": {
      "text/plain": [
       "'Coronavirus Australia: Woolworths to give elderly, disabled dedicated shopping hours amid COVID-19 outbreak https://t.co/bInCA9Vp8P'"
      ]
     },
     "execution_count": 6,
     "metadata": {},
     "output_type": "execute_result"
    }
   ],
   "source": [
    "Original_Tweet_trainfile[2]"
   ]
  },
  {
   "cell_type": "code",
   "execution_count": 7,
   "metadata": {},
   "outputs": [
    {
     "data": {
      "text/plain": [
       "'hello i think pass'"
      ]
     },
     "execution_count": 7,
     "metadata": {},
     "output_type": "execute_result"
    }
   ],
   "source": [
    "lemmatize_processor('hello I think passed')"
   ]
  },
  {
   "cell_type": "markdown",
   "metadata": {
    "id": "eeR26J-N4-15"
   },
   "source": [
    "---"
   ]
  },
  {
   "cell_type": "markdown",
   "metadata": {
    "id": "JyDE26-i4-15"
   },
   "source": [
    "## Question 2 (5 points)\n",
    "\n",
    "**Split your data into a train and a validation set**. You can use 85% for training and 15% for validation, or similar proportions. Remember to shuffle your data before splitting, specifying a seed to be able to replicate your results."
   ]
  },
  {
   "cell_type": "code",
   "execution_count": 8,
   "metadata": {
    "id": "9vWDVkRB4-16"
   },
   "outputs": [],
   "source": [
    "# your code here\n",
    "# Reminder: the split can be carried out directly on raw text data\n",
    "from sklearn.model_selection import train_test_split\n",
    "\n",
    "X_train, X_validation, y_train, y_validation = train_test_split(Original_Tweet_trainfile, Sentiment_trainfile, \n",
    "                                                                test_size=0.15, random_state=42, shuffle = True)"
   ]
  },
  {
   "cell_type": "markdown",
   "metadata": {
    "id": "QpfNtdX04-16"
   },
   "source": [
    "---"
   ]
  },
  {
   "cell_type": "markdown",
   "metadata": {
    "id": "I328Auig4-17"
   },
   "source": [
    "## Question 3 (10 points)\n",
    "\n",
    "Write a function which, given as input a set of predictions and a set of ground truth labels, prints out a **classification report** including:\n",
    "* Name of the method\n",
    "* Accuracy\n",
    "* Precision, recall and F1 measure\n",
    "* An example of a correctly classified datapoint\n",
    "* An example of a wrongly classified datapoint"
   ]
  },
  {
   "cell_type": "code",
   "execution_count": 9,
   "metadata": {
    "id": "uGTHtBPu4-18"
   },
   "outputs": [],
   "source": [
    "# your code here\n",
    "from sklearn.metrics import classification_report, accuracy_score\n",
    "import random\n",
    "\n",
    "def report(predictions, ground_truth_labels, method, X_text=None):\n",
    "    print(f\"The classification report for {method}.\")\n",
    "    print(f\"Accuracy: {accuracy_score(ground_truth_labels, predictions)}\")\n",
    "    print()\n",
    "    print(classification_report(ground_truth_labels, predictions))\n",
    "\n",
    "    # Collect indices of correct and wrong classifactions in lists\n",
    "    correct_indices = [i for i in range(len(ground_truth_labels)) if ground_truth_labels[i] == predictions[i]]\n",
    "    wrong_indices = [i for i in range(len(ground_truth_labels)) if ground_truth_labels[i] != predictions[i]]\n",
    "\n",
    "    # Set X_text as an optional argument for testing, \n",
    "    # if not none, randomly chose an index from lists respectively\n",
    "    # and retrieve in X_train where text shuffle takes place together with\n",
    "    # labels, just don't use original text data\n",
    "    if X_text is not None:\n",
    "        if correct_indices:\n",
    "            correct_index = random.choice(correct_indices)\n",
    "            \n",
    "            print(\"\\nExample of a correctly classified datapoint:\")\n",
    "            print(\"True Label:\", ground_truth_labels[correct_index])\n",
    "            print(\"Predicted Label:\", predictions[correct_index])\n",
    "            print(\"Text:\", X_text[correct_index])           \n",
    "\n",
    "        if wrong_indices:\n",
    "            wrong_index = random.choice(wrong_indices)\n",
    "\n",
    "            print(\"\\nExample of a wrongly classified datapoint:\")\n",
    "            print(\"True Label:\", ground_truth_labels[wrong_index])\n",
    "            print(\"Predicted Label:\", predictions[wrong_index])\n",
    "            print(\"Text:\", X_text[wrong_index])"
   ]
  },
  {
   "cell_type": "markdown",
   "metadata": {
    "id": "PZG3nFTa4-18"
   },
   "source": [
    "---"
   ]
  },
  {
   "cell_type": "markdown",
   "metadata": {
    "id": "YwLrjSBV4-18"
   },
   "source": [
    "# Classifying (55 points)"
   ]
  },
  {
   "cell_type": "markdown",
   "metadata": {
    "id": "n_gI9lIS4-19"
   },
   "source": [
    "## Question 4 (15 points)\n",
    "\n",
    "An important first step when dealing with a real-world task is establishing a **solid baseline**. The baseline allows to a) develop the first full pipeline for your task, and b) to have something to compare against when you develop more advanced models.\n",
    "\n",
    "Pick a method to use as a baseline. *A good option might be a TF-IDF Logistic Regression*. Feel free to use scikit-learn or another library of choice. See [here](https://scikit-learn.org/stable/supervised_learning.html#supervised-learning) for more options.\n",
    "\n",
    "Use your classification report function and the validation set to report on the performance of your baseline. *Pay attention: the validation data only needs to be transformed, and must not be used to fit any transformation. For example, if you have used a TF-IDF vectorizer by fitting it to your train data and then transformed it, use the same fitted vectorizer to transform your validation data.*"
   ]
  },
  {
   "cell_type": "code",
   "execution_count": 10,
   "metadata": {
    "id": "DOyDJ8494-1-"
   },
   "outputs": [
    {
     "name": "stderr",
     "output_type": "stream",
     "text": [
      "F:\\anaconda\\Lib\\site-packages\\sklearn\\feature_extraction\\text.py:525: UserWarning: The parameter 'token_pattern' will not be used since 'tokenizer' is not None'\n",
      "  warnings.warn(\n",
      "F:\\anaconda\\Lib\\site-packages\\sklearn\\feature_extraction\\text.py:408: UserWarning: Your stop_words may be inconsistent with your preprocessing. Tokenizing the stop words generated tokens ['far', 'make', 'u'] not in stop_words.\n",
      "  warnings.warn(\n",
      "F:\\anaconda\\Lib\\site-packages\\sklearn\\linear_model\\_logistic.py:460: ConvergenceWarning: lbfgs failed to converge (status=1):\n",
      "STOP: TOTAL NO. of ITERATIONS REACHED LIMIT.\n",
      "\n",
      "Increase the number of iterations (max_iter) or scale the data as shown in:\n",
      "    https://scikit-learn.org/stable/modules/preprocessing.html\n",
      "Please also refer to the documentation for alternative solver options:\n",
      "    https://scikit-learn.org/stable/modules/linear_model.html#logistic-regression\n",
      "  n_iter_i = _check_optimize_result(\n"
     ]
    },
    {
     "data": {
      "text/html": [
       "<style>#sk-container-id-1 {color: black;}#sk-container-id-1 pre{padding: 0;}#sk-container-id-1 div.sk-toggleable {background-color: white;}#sk-container-id-1 label.sk-toggleable__label {cursor: pointer;display: block;width: 100%;margin-bottom: 0;padding: 0.3em;box-sizing: border-box;text-align: center;}#sk-container-id-1 label.sk-toggleable__label-arrow:before {content: \"▸\";float: left;margin-right: 0.25em;color: #696969;}#sk-container-id-1 label.sk-toggleable__label-arrow:hover:before {color: black;}#sk-container-id-1 div.sk-estimator:hover label.sk-toggleable__label-arrow:before {color: black;}#sk-container-id-1 div.sk-toggleable__content {max-height: 0;max-width: 0;overflow: hidden;text-align: left;background-color: #f0f8ff;}#sk-container-id-1 div.sk-toggleable__content pre {margin: 0.2em;color: black;border-radius: 0.25em;background-color: #f0f8ff;}#sk-container-id-1 input.sk-toggleable__control:checked~div.sk-toggleable__content {max-height: 200px;max-width: 100%;overflow: auto;}#sk-container-id-1 input.sk-toggleable__control:checked~label.sk-toggleable__label-arrow:before {content: \"▾\";}#sk-container-id-1 div.sk-estimator input.sk-toggleable__control:checked~label.sk-toggleable__label {background-color: #d4ebff;}#sk-container-id-1 div.sk-label input.sk-toggleable__control:checked~label.sk-toggleable__label {background-color: #d4ebff;}#sk-container-id-1 input.sk-hidden--visually {border: 0;clip: rect(1px 1px 1px 1px);clip: rect(1px, 1px, 1px, 1px);height: 1px;margin: -1px;overflow: hidden;padding: 0;position: absolute;width: 1px;}#sk-container-id-1 div.sk-estimator {font-family: monospace;background-color: #f0f8ff;border: 1px dotted black;border-radius: 0.25em;box-sizing: border-box;margin-bottom: 0.5em;}#sk-container-id-1 div.sk-estimator:hover {background-color: #d4ebff;}#sk-container-id-1 div.sk-parallel-item::after {content: \"\";width: 100%;border-bottom: 1px solid gray;flex-grow: 1;}#sk-container-id-1 div.sk-label:hover label.sk-toggleable__label {background-color: #d4ebff;}#sk-container-id-1 div.sk-serial::before {content: \"\";position: absolute;border-left: 1px solid gray;box-sizing: border-box;top: 0;bottom: 0;left: 50%;z-index: 0;}#sk-container-id-1 div.sk-serial {display: flex;flex-direction: column;align-items: center;background-color: white;padding-right: 0.2em;padding-left: 0.2em;position: relative;}#sk-container-id-1 div.sk-item {position: relative;z-index: 1;}#sk-container-id-1 div.sk-parallel {display: flex;align-items: stretch;justify-content: center;background-color: white;position: relative;}#sk-container-id-1 div.sk-item::before, #sk-container-id-1 div.sk-parallel-item::before {content: \"\";position: absolute;border-left: 1px solid gray;box-sizing: border-box;top: 0;bottom: 0;left: 50%;z-index: -1;}#sk-container-id-1 div.sk-parallel-item {display: flex;flex-direction: column;z-index: 1;position: relative;background-color: white;}#sk-container-id-1 div.sk-parallel-item:first-child::after {align-self: flex-end;width: 50%;}#sk-container-id-1 div.sk-parallel-item:last-child::after {align-self: flex-start;width: 50%;}#sk-container-id-1 div.sk-parallel-item:only-child::after {width: 0;}#sk-container-id-1 div.sk-dashed-wrapped {border: 1px dashed gray;margin: 0 0.4em 0.5em 0.4em;box-sizing: border-box;padding-bottom: 0.4em;background-color: white;}#sk-container-id-1 div.sk-label label {font-family: monospace;font-weight: bold;display: inline-block;line-height: 1.2em;}#sk-container-id-1 div.sk-label-container {text-align: center;}#sk-container-id-1 div.sk-container {/* jupyter's `normalize.less` sets `[hidden] { display: none; }` but bootstrap.min.css set `[hidden] { display: none !important; }` so we also need the `!important` here to be able to override the default hidden behavior on the sphinx rendered scikit-learn.org. See: https://github.com/scikit-learn/scikit-learn/issues/21755 */display: inline-block !important;position: relative;}#sk-container-id-1 div.sk-text-repr-fallback {display: none;}</style><div id=\"sk-container-id-1\" class=\"sk-top-container\"><div class=\"sk-text-repr-fallback\"><pre>LogisticRegression()</pre><b>In a Jupyter environment, please rerun this cell to show the HTML representation or trust the notebook. <br />On GitHub, the HTML representation is unable to render, please try loading this page with nbviewer.org.</b></div><div class=\"sk-container\" hidden><div class=\"sk-item\"><div class=\"sk-estimator sk-toggleable\"><input class=\"sk-toggleable__control sk-hidden--visually\" id=\"sk-estimator-id-1\" type=\"checkbox\" checked><label for=\"sk-estimator-id-1\" class=\"sk-toggleable__label sk-toggleable__label-arrow\">LogisticRegression</label><div class=\"sk-toggleable__content\"><pre>LogisticRegression()</pre></div></div></div></div></div>"
      ],
      "text/plain": [
       "LogisticRegression()"
      ]
     },
     "execution_count": 10,
     "metadata": {},
     "output_type": "execute_result"
    }
   ],
   "source": [
    "# your code here\n",
    "# Baseline default tfidf-LogReg model\n",
    "from sklearn.linear_model import LogisticRegression\n",
    "\n",
    "logreg = LogisticRegression(solver='lbfgs')\n",
    "\n",
    "X_train_tfidf = tfidf_vectorizer.fit_transform(X_train)\n",
    "logreg.fit(X_train_tfidf, y_train)"
   ]
  },
  {
   "cell_type": "code",
   "execution_count": 11,
   "metadata": {},
   "outputs": [
    {
     "name": "stdout",
     "output_type": "stream",
     "text": [
      "The classification report for tfidf_log.\n",
      "Accuracy: 0.5761256883705863\n",
      "\n",
      "                    precision    recall  f1-score   support\n",
      "\n",
      "Extremely Negative       0.66      0.51      0.58       790\n",
      "Extremely Positive       0.67      0.55      0.61      1005\n",
      "          Negative       0.53      0.54      0.53      1516\n",
      "           Neutral       0.64      0.64      0.64      1176\n",
      "          Positive       0.51      0.61      0.56      1687\n",
      "\n",
      "          accuracy                           0.58      6174\n",
      "         macro avg       0.60      0.57      0.58      6174\n",
      "      weighted avg       0.58      0.58      0.58      6174\n",
      "\n",
      "\n",
      "Example of a correctly classified datapoint:\n",
      "True Label: Neutral\n",
      "Predicted Label: Neutral\n",
      "Text: New York s Food Pantries Face An  Unprecedented And Extreme Uptick In Need  via\n",
      "\n",
      "Example of a wrongly classified datapoint:\n",
      "True Label: Neutral\n",
      "Predicted Label: Positive\n",
      "Text: Safety Advice If You Must Visit the Grocery Store   Is isolation getting to you Here s how to know   and what experts say to do\n"
     ]
    }
   ],
   "source": [
    "X_validation_tfidf = tfidf_vectorizer.transform(X_validation)\n",
    "y_hat_validation = logreg.predict(X_validation_tfidf)\n",
    "\n",
    "# Baseline default tfidf-LogReg model validation report\n",
    "report(y_hat_validation, y_validation, 'tfidf_log', X_text = X_validation)"
   ]
  },
  {
   "cell_type": "code",
   "execution_count": 12,
   "metadata": {},
   "outputs": [
    {
     "name": "stderr",
     "output_type": "stream",
     "text": [
      "F:\\anaconda\\Lib\\site-packages\\sklearn\\model_selection\\_validation.py:425: FitFailedWarning: \n",
      "25 fits failed out of a total of 100.\n",
      "The score on these train-test partitions for these parameters will be set to nan.\n",
      "If these failures are not expected, you can try to debug them by setting error_score='raise'.\n",
      "\n",
      "Below are more details about the failures:\n",
      "--------------------------------------------------------------------------------\n",
      "25 fits failed with the following error:\n",
      "Traceback (most recent call last):\n",
      "  File \"F:\\anaconda\\Lib\\site-packages\\sklearn\\model_selection\\_validation.py\", line 732, in _fit_and_score\n",
      "    estimator.fit(X_train, y_train, **fit_params)\n",
      "  File \"F:\\anaconda\\Lib\\site-packages\\sklearn\\base.py\", line 1151, in wrapper\n",
      "    return fit_method(estimator, *args, **kwargs)\n",
      "           ^^^^^^^^^^^^^^^^^^^^^^^^^^^^^^^^^^^^^^\n",
      "  File \"F:\\anaconda\\Lib\\site-packages\\sklearn\\linear_model\\_logistic.py\", line 1168, in fit\n",
      "    solver = _check_solver(self.solver, self.penalty, self.dual)\n",
      "             ^^^^^^^^^^^^^^^^^^^^^^^^^^^^^^^^^^^^^^^^^^^^^^^^^^^\n",
      "  File \"F:\\anaconda\\Lib\\site-packages\\sklearn\\linear_model\\_logistic.py\", line 56, in _check_solver\n",
      "    raise ValueError(\n",
      "ValueError: Solver lbfgs supports only 'l2' or 'none' penalties, got l1 penalty.\n",
      "\n",
      "  warnings.warn(some_fits_failed_message, FitFailedWarning)\n",
      "F:\\anaconda\\Lib\\site-packages\\sklearn\\model_selection\\_search.py:976: UserWarning: One or more of the test scores are non-finite: [       nan 0.27827802 0.27827802 0.27827802        nan 0.27839237\n",
      " 0.3045194  0.29379982        nan 0.40802745 0.44513093 0.4286373\n",
      "        nan 0.57184973 0.54117746 0.52914308        nan 0.54680869\n",
      " 0.56447414 0.54229221]\n",
      "  warnings.warn(\n"
     ]
    },
    {
     "name": "stdout",
     "output_type": "stream",
     "text": [
      "Best Parameters: {'C': 1, 'penalty': 'l1', 'solver': 'liblinear'}\n",
      "Best Accuracy: 0.5718497341791421\n"
     ]
    }
   ],
   "source": [
    "# Tuning for TFIDF-LogRegression\n",
    "from sklearn.model_selection import GridSearchCV\n",
    "\n",
    "params = {\n",
    "    'penalty': ['l1', 'l2'],\n",
    "    'C': [0.001, 0.01, 0.1,1,10],\n",
    "    'solver': ['lbfgs', 'liblinear']\n",
    "}\n",
    "\n",
    "\n",
    "grid_search = GridSearchCV(estimator=LogisticRegression(),\n",
    "                           param_grid=params,\n",
    "                           scoring='accuracy',\n",
    "                           cv=5,\n",
    "                           n_jobs=-1)\n",
    "\n",
    "\n",
    "grid_search.fit(X_train_tfidf, y_train)\n",
    "\n",
    "print(\"Best Parameters:\", grid_search.best_params_)\n",
    "print(\"Best Accuracy:\", grid_search.best_score_)"
   ]
  },
  {
   "cell_type": "code",
   "execution_count": 13,
   "metadata": {},
   "outputs": [
    {
     "name": "stdout",
     "output_type": "stream",
     "text": [
      "The classification report for tuned_tfidf_log.\n",
      "Accuracy: 0.6059280855199223\n",
      "\n",
      "                    precision    recall  f1-score   support\n",
      "\n",
      "Extremely Negative       0.61      0.64      0.63       790\n",
      "Extremely Positive       0.65      0.68      0.67      1005\n",
      "          Negative       0.59      0.48      0.53      1516\n",
      "           Neutral       0.64      0.77      0.70      1176\n",
      "          Positive       0.56      0.55      0.55      1687\n",
      "\n",
      "          accuracy                           0.61      6174\n",
      "         macro avg       0.61      0.62      0.61      6174\n",
      "      weighted avg       0.60      0.61      0.60      6174\n",
      "\n",
      "\n",
      "Example of a correctly classified datapoint:\n",
      "True Label: Extremely Negative\n",
      "Predicted Label: Extremely Negative\n",
      "Text: Quick comparative analysis of the impact of the COVID 19 crisis on base metal prices and which metal is most likely to over perform when the recovery comes\n",
      "\n",
      "Example of a wrongly classified datapoint:\n",
      "True Label: Negative\n",
      "Predicted Label: Neutral\n",
      "Text: Tata Consumer Products Limited and e-commerce website, Flipkart have come together to partner for providing essential commodities amidst the nationwide lockdown in the wake of COVID-19 pandemic.\n",
      ".\n",
      ".\n",
      ".\n",
      ".\n",
      "#TCPLTD #flipkart #indialockdown #Investirage #sharemarket #PMModiOnCorona https://t.co/gb34RyxXuz\n"
     ]
    }
   ],
   "source": [
    "logreg_bt = LogisticRegression(C = 1, penalty = 'l1', solver = 'liblinear')\n",
    "logreg_bt.fit(X_train_tfidf, y_train)\n",
    "y_hat_validation_tfidf_bt = logreg_bt.predict(X_validation_tfidf)\n",
    "\n",
    "report(y_hat_validation_tfidf_bt, y_validation, 'tuned_tfidf_log', X_text = X_validation)"
   ]
  },
  {
   "cell_type": "markdown",
   "metadata": {
    "id": "EnnmO3Kf4-1-"
   },
   "source": [
    "---"
   ]
  },
  {
   "cell_type": "markdown",
   "metadata": {
    "id": "zOE_ZHLv4-1-"
   },
   "source": [
    "## Question 5 (25 points)\n",
    "\n",
    "Try now to **beat your baseline**. Feel free to use scikit-learn or another library of choice. See [here](https://scikit-learn.org/stable/supervised_learning.html#supervised-learning) for more options.\n",
    "\n",
    "How to beat the baseline? There are many ways:\n",
    "1. You could have a better text representation (e.g., using PPMI instead of TF-IDF, note that this is challenging because there is no ready-made scikit-learn vectorizer for this).\n",
    "2. You can pick a more powerful model (e.g., random forests or SVMs).\n",
    "3. You have to find good hyperparameters for your model, and not just use the default ones.\n",
    "\n",
    "Regarding point 3 above, make sure to perform some hyperparameter searching using [grid search](https://scikit-learn.org/stable/modules/generated/sklearn.model_selection.GridSearchCV.html) or [randomized search](https://scikit-learn.org/stable/modules/generated/sklearn.model_selection.RandomizedSearchCV.html).\n",
    "\n",
    "Use your classification report function and the validation set to report on the performance of your baseline. *Pay attention: the validation data only needs to be transformed, and must not be used to fit any transformation. For example, if you have used a TF-IDF vectorizer by fitting it to your train data and then transformed it, use the same fitted vectorizer to transform your validation data.*"
   ]
  },
  {
   "cell_type": "code",
   "execution_count": 14,
   "metadata": {},
   "outputs": [
    {
     "name": "stderr",
     "output_type": "stream",
     "text": [
      "F:\\anaconda\\Lib\\site-packages\\sklearn\\feature_extraction\\text.py:525: UserWarning: The parameter 'token_pattern' will not be used since 'tokenizer' is not None'\n",
      "  warnings.warn(\n",
      "F:\\anaconda\\Lib\\site-packages\\sklearn\\feature_extraction\\text.py:408: UserWarning: Your stop_words may be inconsistent with your preprocessing. Tokenizing the stop words generated tokens ['far', 'make', 'u'] not in stop_words.\n",
      "  warnings.warn(\n"
     ]
    }
   ],
   "source": [
    "# Count vectorized vars\n",
    "X_train_count = count_vectorizer.fit_transform(X_train)\n",
    "X_validation_count = count_vectorizer.transform(X_validation)"
   ]
  },
  {
   "cell_type": "code",
   "execution_count": 15,
   "metadata": {},
   "outputs": [
    {
     "name": "stdout",
     "output_type": "stream",
     "text": [
      "The classification report for count_log.\n",
      "Accuracy: 0.5926465824425008\n",
      "\n",
      "                    precision    recall  f1-score   support\n",
      "\n",
      "Extremely Negative       0.62      0.58      0.60       790\n",
      "Extremely Positive       0.67      0.63      0.65      1005\n",
      "          Negative       0.55      0.51      0.53      1516\n",
      "           Neutral       0.60      0.73      0.66      1176\n",
      "          Positive       0.56      0.56      0.56      1687\n",
      "\n",
      "          accuracy                           0.59      6174\n",
      "         macro avg       0.60      0.60      0.60      6174\n",
      "      weighted avg       0.59      0.59      0.59      6174\n",
      "\n",
      "\n",
      "Example of a correctly classified datapoint:\n",
      "True Label: Negative\n",
      "Predicted Label: Negative\n",
      "Text: So although Argos stand alone stores are closed they are still delivering from online shopping, how are they an essential product? They are putting their drivers and public at risk\n",
      "#argos @Argos_Online #lockdown #coronavirus\n",
      "\n",
      "Example of a wrongly classified datapoint:\n",
      "True Label: Positive\n",
      "Predicted Label: Negative\n",
      "Text: Due to the COVID-19 situation, food banks across America are seeing a rise in demand for resources to serve those most in need and Brookshire Grocery Co. is determined to make a difference in the communities it serves. BGC is donating $1 million to Â",
      " https://t.co/luxOgs3eCr\n"
     ]
    },
    {
     "name": "stderr",
     "output_type": "stream",
     "text": [
      "F:\\anaconda\\Lib\\site-packages\\sklearn\\linear_model\\_logistic.py:460: ConvergenceWarning: lbfgs failed to converge (status=1):\n",
      "STOP: TOTAL NO. of ITERATIONS REACHED LIMIT.\n",
      "\n",
      "Increase the number of iterations (max_iter) or scale the data as shown in:\n",
      "    https://scikit-learn.org/stable/modules/preprocessing.html\n",
      "Please also refer to the documentation for alternative solver options:\n",
      "    https://scikit-learn.org/stable/modules/linear_model.html#logistic-regression\n",
      "  n_iter_i = _check_optimize_result(\n"
     ]
    }
   ],
   "source": [
    "# Count-based logistic regression\n",
    "logreg.fit(X_train_count, y_train)\n",
    "y_hat_validation_count = logreg.predict(X_validation_count)\n",
    "\n",
    "report(y_hat_validation_count, y_validation, 'count_log', X_text = X_validation)"
   ]
  },
  {
   "cell_type": "code",
   "execution_count": 16,
   "metadata": {},
   "outputs": [
    {
     "name": "stderr",
     "output_type": "stream",
     "text": [
      "F:\\anaconda\\Lib\\site-packages\\sklearn\\model_selection\\_validation.py:425: FitFailedWarning: \n",
      "25 fits failed out of a total of 100.\n",
      "The score on these train-test partitions for these parameters will be set to nan.\n",
      "If these failures are not expected, you can try to debug them by setting error_score='raise'.\n",
      "\n",
      "Below are more details about the failures:\n",
      "--------------------------------------------------------------------------------\n",
      "25 fits failed with the following error:\n",
      "Traceback (most recent call last):\n",
      "  File \"F:\\anaconda\\Lib\\site-packages\\sklearn\\model_selection\\_validation.py\", line 732, in _fit_and_score\n",
      "    estimator.fit(X_train, y_train, **fit_params)\n",
      "  File \"F:\\anaconda\\Lib\\site-packages\\sklearn\\base.py\", line 1151, in wrapper\n",
      "    return fit_method(estimator, *args, **kwargs)\n",
      "           ^^^^^^^^^^^^^^^^^^^^^^^^^^^^^^^^^^^^^^\n",
      "  File \"F:\\anaconda\\Lib\\site-packages\\sklearn\\linear_model\\_logistic.py\", line 1168, in fit\n",
      "    solver = _check_solver(self.solver, self.penalty, self.dual)\n",
      "             ^^^^^^^^^^^^^^^^^^^^^^^^^^^^^^^^^^^^^^^^^^^^^^^^^^^\n",
      "  File \"F:\\anaconda\\Lib\\site-packages\\sklearn\\linear_model\\_logistic.py\", line 56, in _check_solver\n",
      "    raise ValueError(\n",
      "ValueError: Solver lbfgs supports only 'l2' or 'none' penalties, got l1 penalty.\n",
      "\n",
      "  warnings.warn(some_fits_failed_message, FitFailedWarning)\n",
      "F:\\anaconda\\Lib\\site-packages\\sklearn\\model_selection\\_search.py:976: UserWarning: One or more of the test scores are non-finite: [       nan 0.28245146 0.37764072 0.37283846        nan 0.38698863\n",
      " 0.49721344 0.4863225         nan 0.54089154 0.5665898  0.55352633\n",
      "        nan 0.58622806 0.57302118 0.5602725         nan 0.54280684\n",
      " 0.57079166 0.53860482]\n",
      "  warnings.warn(\n"
     ]
    },
    {
     "name": "stdout",
     "output_type": "stream",
     "text": [
      "Best Parameters: {'C': 1, 'penalty': 'l1', 'solver': 'liblinear'}\n",
      "Best Accuracy: 0.5862280640898702\n"
     ]
    }
   ],
   "source": [
    "# Tuning for Count-LogRegression\n",
    "params = {\n",
    "    'penalty': ['l1', 'l2'],\n",
    "    'C': [0.001, 0.01, 0.1,1,10],\n",
    "    'solver': ['lbfgs', 'liblinear']\n",
    "}\n",
    "\n",
    "\n",
    "grid_search = GridSearchCV(estimator=LogisticRegression(),\n",
    "                           param_grid=params,\n",
    "                           scoring='accuracy',\n",
    "                           cv=5,\n",
    "                           n_jobs=-1)\n",
    "\n",
    "\n",
    "grid_search.fit(X_train_count, y_train)\n",
    "\n",
    "print(\"Best Parameters:\", grid_search.best_params_)\n",
    "print(\"Best Accuracy:\", grid_search.best_score_)"
   ]
  },
  {
   "cell_type": "code",
   "execution_count": 17,
   "metadata": {},
   "outputs": [
    {
     "name": "stdout",
     "output_type": "stream",
     "text": [
      "The classification report for tuned_count_log.\n",
      "Accuracy: 0.6073858114674441\n",
      "\n",
      "                    precision    recall  f1-score   support\n",
      "\n",
      "Extremely Negative       0.67      0.68      0.67       790\n",
      "Extremely Positive       0.67      0.71      0.69      1005\n",
      "          Negative       0.56      0.48      0.51      1516\n",
      "           Neutral       0.63      0.75      0.68      1176\n",
      "          Positive       0.56      0.53      0.54      1687\n",
      "\n",
      "          accuracy                           0.61      6174\n",
      "         macro avg       0.62      0.63      0.62      6174\n",
      "      weighted avg       0.60      0.61      0.60      6174\n",
      "\n",
      "\n",
      "Example of a correctly classified datapoint:\n",
      "True Label: Extremely Positive\n",
      "Predicted Label: Extremely Positive\n",
      "Text: Coffee maker available for Kshs 3500.\n",
      "Make your order via 0715783634.\n",
      "Remember to keep safe during this COVID-19 outbreak. Online shopping is a great idea for you and your family.\n",
      "#household #homedecor #kitchendecor #glammyhomekenya https://t.co/roqoqrP5Kb\n",
      "\n",
      "Example of a wrongly classified datapoint:\n",
      "True Label: Negative\n",
      "Predicted Label: Neutral\n",
      "Text: Another supermarket initiative to reduce spread. \n",
      "Should do this all the time - I hate supermarket isles!\n",
      "#coronavirus https://t.co/eaJ2TmoIny\n"
     ]
    }
   ],
   "source": [
    "# Tuned Count-LogRegression\n",
    "logreg_t = LogisticRegression(C = 1, penalty = 'l1', solver = 'liblinear')\n",
    "logreg_t.fit(X_train_count, y_train)\n",
    "y_hat_validation_count_t = logreg_t.predict(X_validation_count)\n",
    "\n",
    "report(y_hat_validation_count_t, y_validation, 'tuned_count_log', X_text = X_validation)"
   ]
  },
  {
   "cell_type": "code",
   "execution_count": 18,
   "metadata": {
    "id": "pIcbBVMO4-1_"
   },
   "outputs": [
    {
     "name": "stdout",
     "output_type": "stream",
     "text": [
      "The classification report for SVM_tfidf.\n",
      "Accuracy: 0.5323939099449303\n",
      "\n",
      "                    precision    recall  f1-score   support\n",
      "\n",
      "Extremely Negative       0.48      0.81      0.60       790\n",
      "Extremely Positive       0.52      0.83      0.64      1005\n",
      "          Negative       0.52      0.28      0.36      1516\n",
      "           Neutral       0.59      0.73      0.65      1176\n",
      "          Positive       0.55      0.32      0.40      1687\n",
      "\n",
      "          accuracy                           0.53      6174\n",
      "         macro avg       0.53      0.59      0.53      6174\n",
      "      weighted avg       0.54      0.53      0.50      6174\n",
      "\n",
      "\n",
      "Example of a correctly classified datapoint:\n",
      "True Label: Neutral\n",
      "Predicted Label: Neutral\n",
      "Text: Happening Now: White House #Coronavirus Task Force providing an update on the pandemic. Watch live here: https://t.co/HwdJDKqQXp https://t.co/8Xyr7hkONM\n",
      "\n",
      "Example of a wrongly classified datapoint:\n",
      "True Label: Extremely Negative\n",
      "Predicted Label: Negative\n",
      "Text: Beware of counterfeiters The is working with law enforcement to warn about how to be prepared to prevent criminals from exploiting the pandemic And FDA are monitoring to halt fraudulent product sales\n"
     ]
    }
   ],
   "source": [
    "# your code here\n",
    "# Using a default tfidf-based SVM model\n",
    "from sklearn.linear_model import SGDClassifier\n",
    "\n",
    "SVM = SGDClassifier(random_state = 42)\n",
    "\n",
    "SVM.fit(X_train_tfidf, y_train)\n",
    "y_hat_validation_SVM = SVM.predict(X_validation_tfidf)\n",
    "\n",
    "report(y_hat_validation_SVM, y_validation, 'SVM_tfidf', X_text = X_validation)"
   ]
  },
  {
   "cell_type": "code",
   "execution_count": 19,
   "metadata": {},
   "outputs": [
    {
     "name": "stderr",
     "output_type": "stream",
     "text": [
      "F:\\anaconda\\Lib\\site-packages\\sklearn\\model_selection\\_validation.py:425: FitFailedWarning: \n",
      "210 fits failed out of a total of 270.\n",
      "The score on these train-test partitions for these parameters will be set to nan.\n",
      "If these failures are not expected, you can try to debug them by setting error_score='raise'.\n",
      "\n",
      "Below are more details about the failures:\n",
      "--------------------------------------------------------------------------------\n",
      "11 fits failed with the following error:\n",
      "Traceback (most recent call last):\n",
      "  File \"F:\\anaconda\\Lib\\site-packages\\sklearn\\model_selection\\_validation.py\", line 732, in _fit_and_score\n",
      "    estimator.fit(X_train, y_train, **fit_params)\n",
      "  File \"F:\\anaconda\\Lib\\site-packages\\sklearn\\base.py\", line 1144, in wrapper\n",
      "    estimator._validate_params()\n",
      "  File \"F:\\anaconda\\Lib\\site-packages\\sklearn\\base.py\", line 637, in _validate_params\n",
      "    validate_parameter_constraints(\n",
      "  File \"F:\\anaconda\\Lib\\site-packages\\sklearn\\utils\\_param_validation.py\", line 95, in validate_parameter_constraints\n",
      "    raise InvalidParameterError(\n",
      "sklearn.utils._param_validation.InvalidParameterError: The 'loss' parameter of SGDClassifier must be a str among {'hinge', 'epsilon_insensitive', 'squared_error', 'modified_huber', 'huber', 'perceptron', 'squared_hinge', 'log_loss', 'squared_epsilon_insensitive'}. Got 'log' instead.\n",
      "\n",
      "--------------------------------------------------------------------------------\n",
      "9 fits failed with the following error:\n",
      "Traceback (most recent call last):\n",
      "  File \"F:\\anaconda\\Lib\\site-packages\\sklearn\\model_selection\\_validation.py\", line 732, in _fit_and_score\n",
      "    estimator.fit(X_train, y_train, **fit_params)\n",
      "  File \"F:\\anaconda\\Lib\\site-packages\\sklearn\\base.py\", line 1144, in wrapper\n",
      "    estimator._validate_params()\n",
      "  File \"F:\\anaconda\\Lib\\site-packages\\sklearn\\base.py\", line 637, in _validate_params\n",
      "    validate_parameter_constraints(\n",
      "  File \"F:\\anaconda\\Lib\\site-packages\\sklearn\\utils\\_param_validation.py\", line 95, in validate_parameter_constraints\n",
      "    raise InvalidParameterError(\n",
      "sklearn.utils._param_validation.InvalidParameterError: The 'loss' parameter of SGDClassifier must be a str among {'hinge', 'log_loss', 'squared_hinge', 'huber', 'modified_huber', 'squared_error', 'epsilon_insensitive', 'squared_epsilon_insensitive', 'perceptron'}. Got 'log' instead.\n",
      "\n",
      "--------------------------------------------------------------------------------\n",
      "120 fits failed with the following error:\n",
      "Traceback (most recent call last):\n",
      "  File \"F:\\anaconda\\Lib\\site-packages\\sklearn\\model_selection\\_validation.py\", line 732, in _fit_and_score\n",
      "    estimator.fit(X_train, y_train, **fit_params)\n",
      "  File \"F:\\anaconda\\Lib\\site-packages\\sklearn\\base.py\", line 1151, in wrapper\n",
      "    return fit_method(estimator, *args, **kwargs)\n",
      "           ^^^^^^^^^^^^^^^^^^^^^^^^^^^^^^^^^^^^^^\n",
      "  File \"F:\\anaconda\\Lib\\site-packages\\sklearn\\linear_model\\_stochastic_gradient.py\", line 905, in fit\n",
      "    self._more_validate_params()\n",
      "  File \"F:\\anaconda\\Lib\\site-packages\\sklearn\\linear_model\\_stochastic_gradient.py\", line 153, in _more_validate_params\n",
      "    raise ValueError(\"eta0 must be > 0\")\n",
      "ValueError: eta0 must be > 0\n",
      "\n",
      "--------------------------------------------------------------------------------\n",
      "20 fits failed with the following error:\n",
      "Traceback (most recent call last):\n",
      "  File \"F:\\anaconda\\Lib\\site-packages\\sklearn\\model_selection\\_validation.py\", line 732, in _fit_and_score\n",
      "    estimator.fit(X_train, y_train, **fit_params)\n",
      "  File \"F:\\anaconda\\Lib\\site-packages\\sklearn\\base.py\", line 1144, in wrapper\n",
      "    estimator._validate_params()\n",
      "  File \"F:\\anaconda\\Lib\\site-packages\\sklearn\\base.py\", line 637, in _validate_params\n",
      "    validate_parameter_constraints(\n",
      "  File \"F:\\anaconda\\Lib\\site-packages\\sklearn\\utils\\_param_validation.py\", line 95, in validate_parameter_constraints\n",
      "    raise InvalidParameterError(\n",
      "sklearn.utils._param_validation.InvalidParameterError: The 'loss' parameter of SGDClassifier must be a str among {'log_loss', 'squared_epsilon_insensitive', 'squared_error', 'squared_hinge', 'perceptron', 'epsilon_insensitive', 'hinge', 'huber', 'modified_huber'}. Got 'log' instead.\n",
      "\n",
      "--------------------------------------------------------------------------------\n",
      "8 fits failed with the following error:\n",
      "Traceback (most recent call last):\n",
      "  File \"F:\\anaconda\\Lib\\site-packages\\sklearn\\model_selection\\_validation.py\", line 732, in _fit_and_score\n",
      "    estimator.fit(X_train, y_train, **fit_params)\n",
      "  File \"F:\\anaconda\\Lib\\site-packages\\sklearn\\base.py\", line 1144, in wrapper\n",
      "    estimator._validate_params()\n",
      "  File \"F:\\anaconda\\Lib\\site-packages\\sklearn\\base.py\", line 637, in _validate_params\n",
      "    validate_parameter_constraints(\n",
      "  File \"F:\\anaconda\\Lib\\site-packages\\sklearn\\utils\\_param_validation.py\", line 95, in validate_parameter_constraints\n",
      "    raise InvalidParameterError(\n",
      "sklearn.utils._param_validation.InvalidParameterError: The 'loss' parameter of SGDClassifier must be a str among {'perceptron', 'modified_huber', 'squared_hinge', 'huber', 'squared_epsilon_insensitive', 'hinge', 'epsilon_insensitive', 'log_loss', 'squared_error'}. Got 'log' instead.\n",
      "\n",
      "--------------------------------------------------------------------------------\n",
      "12 fits failed with the following error:\n",
      "Traceback (most recent call last):\n",
      "  File \"F:\\anaconda\\Lib\\site-packages\\sklearn\\model_selection\\_validation.py\", line 732, in _fit_and_score\n",
      "    estimator.fit(X_train, y_train, **fit_params)\n",
      "  File \"F:\\anaconda\\Lib\\site-packages\\sklearn\\base.py\", line 1144, in wrapper\n",
      "    estimator._validate_params()\n",
      "  File \"F:\\anaconda\\Lib\\site-packages\\sklearn\\base.py\", line 637, in _validate_params\n",
      "    validate_parameter_constraints(\n",
      "  File \"F:\\anaconda\\Lib\\site-packages\\sklearn\\utils\\_param_validation.py\", line 95, in validate_parameter_constraints\n",
      "    raise InvalidParameterError(\n",
      "sklearn.utils._param_validation.InvalidParameterError: The 'loss' parameter of SGDClassifier must be a str among {'epsilon_insensitive', 'squared_epsilon_insensitive', 'log_loss', 'perceptron', 'squared_hinge', 'modified_huber', 'squared_error', 'huber', 'hinge'}. Got 'log' instead.\n",
      "\n",
      "--------------------------------------------------------------------------------\n",
      "6 fits failed with the following error:\n",
      "Traceback (most recent call last):\n",
      "  File \"F:\\anaconda\\Lib\\site-packages\\sklearn\\model_selection\\_validation.py\", line 732, in _fit_and_score\n",
      "    estimator.fit(X_train, y_train, **fit_params)\n",
      "  File \"F:\\anaconda\\Lib\\site-packages\\sklearn\\base.py\", line 1144, in wrapper\n",
      "    estimator._validate_params()\n",
      "  File \"F:\\anaconda\\Lib\\site-packages\\sklearn\\base.py\", line 637, in _validate_params\n",
      "    validate_parameter_constraints(\n",
      "  File \"F:\\anaconda\\Lib\\site-packages\\sklearn\\utils\\_param_validation.py\", line 95, in validate_parameter_constraints\n",
      "    raise InvalidParameterError(\n",
      "sklearn.utils._param_validation.InvalidParameterError: The 'loss' parameter of SGDClassifier must be a str among {'perceptron', 'huber', 'hinge', 'modified_huber', 'log_loss', 'squared_error', 'squared_hinge', 'squared_epsilon_insensitive', 'epsilon_insensitive'}. Got 'log' instead.\n",
      "\n",
      "--------------------------------------------------------------------------------\n",
      "8 fits failed with the following error:\n",
      "Traceback (most recent call last):\n",
      "  File \"F:\\anaconda\\Lib\\site-packages\\sklearn\\model_selection\\_validation.py\", line 732, in _fit_and_score\n",
      "    estimator.fit(X_train, y_train, **fit_params)\n",
      "  File \"F:\\anaconda\\Lib\\site-packages\\sklearn\\base.py\", line 1144, in wrapper\n",
      "    estimator._validate_params()\n",
      "  File \"F:\\anaconda\\Lib\\site-packages\\sklearn\\base.py\", line 637, in _validate_params\n",
      "    validate_parameter_constraints(\n",
      "  File \"F:\\anaconda\\Lib\\site-packages\\sklearn\\utils\\_param_validation.py\", line 95, in validate_parameter_constraints\n",
      "    raise InvalidParameterError(\n",
      "sklearn.utils._param_validation.InvalidParameterError: The 'loss' parameter of SGDClassifier must be a str among {'hinge', 'squared_error', 'huber', 'squared_epsilon_insensitive', 'squared_hinge', 'log_loss', 'epsilon_insensitive', 'modified_huber', 'perceptron'}. Got 'log' instead.\n",
      "\n",
      "--------------------------------------------------------------------------------\n",
      "8 fits failed with the following error:\n",
      "Traceback (most recent call last):\n",
      "  File \"F:\\anaconda\\Lib\\site-packages\\sklearn\\model_selection\\_validation.py\", line 732, in _fit_and_score\n",
      "    estimator.fit(X_train, y_train, **fit_params)\n",
      "  File \"F:\\anaconda\\Lib\\site-packages\\sklearn\\base.py\", line 1144, in wrapper\n",
      "    estimator._validate_params()\n",
      "  File \"F:\\anaconda\\Lib\\site-packages\\sklearn\\base.py\", line 637, in _validate_params\n",
      "    validate_parameter_constraints(\n",
      "  File \"F:\\anaconda\\Lib\\site-packages\\sklearn\\utils\\_param_validation.py\", line 95, in validate_parameter_constraints\n",
      "    raise InvalidParameterError(\n",
      "sklearn.utils._param_validation.InvalidParameterError: The 'loss' parameter of SGDClassifier must be a str among {'epsilon_insensitive', 'squared_hinge', 'perceptron', 'log_loss', 'squared_error', 'hinge', 'modified_huber', 'squared_epsilon_insensitive', 'huber'}. Got 'log' instead.\n",
      "\n",
      "--------------------------------------------------------------------------------\n",
      "8 fits failed with the following error:\n",
      "Traceback (most recent call last):\n",
      "  File \"F:\\anaconda\\Lib\\site-packages\\sklearn\\model_selection\\_validation.py\", line 732, in _fit_and_score\n",
      "    estimator.fit(X_train, y_train, **fit_params)\n",
      "  File \"F:\\anaconda\\Lib\\site-packages\\sklearn\\base.py\", line 1144, in wrapper\n",
      "    estimator._validate_params()\n",
      "  File \"F:\\anaconda\\Lib\\site-packages\\sklearn\\base.py\", line 637, in _validate_params\n",
      "    validate_parameter_constraints(\n",
      "  File \"F:\\anaconda\\Lib\\site-packages\\sklearn\\utils\\_param_validation.py\", line 95, in validate_parameter_constraints\n",
      "    raise InvalidParameterError(\n",
      "sklearn.utils._param_validation.InvalidParameterError: The 'loss' parameter of SGDClassifier must be a str among {'hinge', 'modified_huber', 'epsilon_insensitive', 'perceptron', 'squared_error', 'huber', 'log_loss', 'squared_hinge', 'squared_epsilon_insensitive'}. Got 'log' instead.\n",
      "\n",
      "  warnings.warn(some_fits_failed_message, FitFailedWarning)\n",
      "F:\\anaconda\\Lib\\site-packages\\sklearn\\model_selection\\_search.py:976: UserWarning: One or more of the test scores are non-finite: [0.52548373 0.47963319        nan        nan 0.54183488 0.55967218\n",
      "        nan        nan        nan        nan        nan        nan\n",
      "        nan        nan        nan        nan        nan        nan\n",
      " 0.5251981  0.28228086        nan        nan 0.50467418 0.42494985\n",
      "        nan        nan        nan        nan        nan        nan\n",
      "        nan        nan        nan        nan        nan        nan\n",
      " 0.52382606 0.20301501        nan        nan 0.36666409 0.28056482\n",
      "        nan        nan        nan        nan        nan        nan\n",
      "        nan        nan        nan        nan        nan        nan]\n",
      "  warnings.warn(\n"
     ]
    },
    {
     "name": "stdout",
     "output_type": "stream",
     "text": [
      "Best Parameters: {'alpha': 0.0001, 'learning_rate': 'optimal', 'loss': 'modified_huber', 'penalty': 'l1'}\n",
      "Best Accuracy: 0.5596721841011172\n"
     ]
    }
   ],
   "source": [
    "# Tuning for tfidf-based SVM\n",
    "from sklearn.model_selection import GridSearchCV\n",
    "\n",
    "param_grid = {\n",
    "    'loss': ['hinge', 'log', 'modified_huber'],\n",
    "    'alpha': [0.0001, 0.001, 0.01],\n",
    "    'penalty': ['l2', 'l1'],\n",
    "    'learning_rate': ['optimal', 'constant', 'adaptive']\n",
    "}\n",
    "\n",
    "# 创建GridSearchCV对象\n",
    "grid_search = GridSearchCV(estimator=SGDClassifier(random_state=42),\n",
    "                           param_grid=param_grid,\n",
    "                           scoring='accuracy',\n",
    "                           cv=5,\n",
    "                           n_jobs=-1)\n",
    "\n",
    "# 执行网格搜索\n",
    "grid_search.fit(X_train_tfidf, y_train)\n",
    "\n",
    "# 输出最佳参数组合和最佳得分\n",
    "print(\"Best Parameters:\", grid_search.best_params_)\n",
    "print(\"Best Accuracy:\", grid_search.best_score_)"
   ]
  },
  {
   "cell_type": "code",
   "execution_count": 20,
   "metadata": {},
   "outputs": [
    {
     "name": "stdout",
     "output_type": "stream",
     "text": [
      "The classification report for SVM_2_tfidf.\n",
      "Accuracy: 0.577259475218659\n",
      "\n",
      "                    precision    recall  f1-score   support\n",
      "\n",
      "Extremely Negative       0.55      0.67      0.60       790\n",
      "Extremely Positive       0.60      0.72      0.65      1005\n",
      "          Negative       0.56      0.40      0.46      1516\n",
      "           Neutral       0.63      0.76      0.69      1176\n",
      "          Positive       0.54      0.49      0.51      1687\n",
      "\n",
      "          accuracy                           0.58      6174\n",
      "         macro avg       0.58      0.61      0.58      6174\n",
      "      weighted avg       0.57      0.58      0.57      6174\n",
      "\n",
      "\n",
      "Example of a correctly classified datapoint:\n",
      "True Label: Extremely Negative\n",
      "Predicted Label: Extremely Negative\n",
      "Text: The COVID-19 pandemic and global oil price wars are having an economic impact worldwide, but one consequence is lower fuel prices at Australian petrol pumps for the foreseeable.\n",
      "\n",
      "#UniMelbPursuit @dprbyrne @BusEcoNews  \n",
      "https://t.co/aB6phfFIwI\n",
      "\n",
      "Example of a wrongly classified datapoint:\n",
      "True Label: Extremely Negative\n",
      "Predicted Label: Positive\n",
      "Text: Let's not forget that people only post the negative on social media in terms of Corovnavirus hysteria.\n",
      "\n",
      "No one is going to say they went to the grocery store and everything went seamless. \n",
      "\n",
      "This does not get attention and the sole reason hysteria exists.\n",
      "\n",
      "#coronavirus\n"
     ]
    }
   ],
   "source": [
    "# Tuned tfidf-based SVM_2 Model\n",
    "SVM_2 = SGDClassifier(alpha=0.0001, learning_rate='optimal', loss='modified_huber', penalty='l1', random_state = 42)\n",
    "\n",
    "SVM_2.fit(X_train_tfidf, y_train)\n",
    "y_hat_validation_SVM_2 = SVM_2.predict(X_validation_tfidf)\n",
    "\n",
    "report(y_hat_validation_SVM_2, y_validation, 'SVM_2_tfidf',X_text = X_validation)"
   ]
  },
  {
   "cell_type": "code",
   "execution_count": 21,
   "metadata": {},
   "outputs": [
    {
     "name": "stdout",
     "output_type": "stream",
     "text": [
      "The classification report for SVM_count.\n",
      "Accuracy: 0.5607385811467445\n",
      "\n",
      "                    precision    recall  f1-score   support\n",
      "\n",
      "Extremely Negative       0.57      0.68      0.62       790\n",
      "Extremely Positive       0.68      0.66      0.67      1005\n",
      "          Negative       0.49      0.42      0.45      1516\n",
      "           Neutral       0.58      0.72      0.64      1176\n",
      "          Positive       0.52      0.47      0.50      1687\n",
      "\n",
      "          accuracy                           0.56      6174\n",
      "         macro avg       0.57      0.59      0.57      6174\n",
      "      weighted avg       0.56      0.56      0.56      6174\n",
      "\n",
      "\n",
      "Example of a correctly classified datapoint:\n",
      "True Label: Positive\n",
      "Predicted Label: Positive\n",
      "Text: People who use sell drugs help needed Is there a change in the market Is the market stable Have prices gone up Have deals got smaller Are there more adulterated drugs Are new drugs appearing Are people shifting to alternatives\n",
      "\n",
      "Example of a wrongly classified datapoint:\n",
      "True Label: Negative\n",
      "Predicted Label: Neutral\n",
      "Text: Only place I did see with any semblance of crowds was the supermarket itself - no masks still, but people anxious to stay more than 1m apart, a notice to that effect and cautioning against putting cash in your mouth (!) and the new cafe now takeaway only #coronavirus\n"
     ]
    }
   ],
   "source": [
    "# your code here\n",
    "# Using a default count-based SVM model\n",
    "SVM.fit(X_train_count, y_train)\n",
    "y_hat_validation_SVM_c = SVM.predict(X_validation_count)\n",
    "\n",
    "report(y_hat_validation_SVM_c, y_validation, 'SVM_count',X_text = X_validation)"
   ]
  },
  {
   "cell_type": "code",
   "execution_count": 22,
   "metadata": {},
   "outputs": [
    {
     "name": "stderr",
     "output_type": "stream",
     "text": [
      "F:\\anaconda\\Lib\\site-packages\\sklearn\\model_selection\\_validation.py:425: FitFailedWarning: \n",
      "210 fits failed out of a total of 270.\n",
      "The score on these train-test partitions for these parameters will be set to nan.\n",
      "If these failures are not expected, you can try to debug them by setting error_score='raise'.\n",
      "\n",
      "Below are more details about the failures:\n",
      "--------------------------------------------------------------------------------\n",
      "5 fits failed with the following error:\n",
      "Traceback (most recent call last):\n",
      "  File \"F:\\anaconda\\Lib\\site-packages\\sklearn\\model_selection\\_validation.py\", line 732, in _fit_and_score\n",
      "    estimator.fit(X_train, y_train, **fit_params)\n",
      "  File \"F:\\anaconda\\Lib\\site-packages\\sklearn\\base.py\", line 1144, in wrapper\n",
      "    estimator._validate_params()\n",
      "  File \"F:\\anaconda\\Lib\\site-packages\\sklearn\\base.py\", line 637, in _validate_params\n",
      "    validate_parameter_constraints(\n",
      "  File \"F:\\anaconda\\Lib\\site-packages\\sklearn\\utils\\_param_validation.py\", line 95, in validate_parameter_constraints\n",
      "    raise InvalidParameterError(\n",
      "sklearn.utils._param_validation.InvalidParameterError: The 'loss' parameter of SGDClassifier must be a str among {'squared_error', 'hinge', 'perceptron', 'log_loss', 'epsilon_insensitive', 'squared_hinge', 'squared_epsilon_insensitive', 'modified_huber', 'huber'}. Got 'log' instead.\n",
      "\n",
      "--------------------------------------------------------------------------------\n",
      "5 fits failed with the following error:\n",
      "Traceback (most recent call last):\n",
      "  File \"F:\\anaconda\\Lib\\site-packages\\sklearn\\model_selection\\_validation.py\", line 732, in _fit_and_score\n",
      "    estimator.fit(X_train, y_train, **fit_params)\n",
      "  File \"F:\\anaconda\\Lib\\site-packages\\sklearn\\base.py\", line 1144, in wrapper\n",
      "    estimator._validate_params()\n",
      "  File \"F:\\anaconda\\Lib\\site-packages\\sklearn\\base.py\", line 637, in _validate_params\n",
      "    validate_parameter_constraints(\n",
      "  File \"F:\\anaconda\\Lib\\site-packages\\sklearn\\utils\\_param_validation.py\", line 95, in validate_parameter_constraints\n",
      "    raise InvalidParameterError(\n",
      "sklearn.utils._param_validation.InvalidParameterError: The 'loss' parameter of SGDClassifier must be a str among {'hinge', 'log_loss', 'squared_hinge', 'huber', 'modified_huber', 'squared_error', 'epsilon_insensitive', 'squared_epsilon_insensitive', 'perceptron'}. Got 'log' instead.\n",
      "\n",
      "--------------------------------------------------------------------------------\n",
      "120 fits failed with the following error:\n",
      "Traceback (most recent call last):\n",
      "  File \"F:\\anaconda\\Lib\\site-packages\\sklearn\\model_selection\\_validation.py\", line 732, in _fit_and_score\n",
      "    estimator.fit(X_train, y_train, **fit_params)\n",
      "  File \"F:\\anaconda\\Lib\\site-packages\\sklearn\\base.py\", line 1151, in wrapper\n",
      "    return fit_method(estimator, *args, **kwargs)\n",
      "           ^^^^^^^^^^^^^^^^^^^^^^^^^^^^^^^^^^^^^^\n",
      "  File \"F:\\anaconda\\Lib\\site-packages\\sklearn\\linear_model\\_stochastic_gradient.py\", line 905, in fit\n",
      "    self._more_validate_params()\n",
      "  File \"F:\\anaconda\\Lib\\site-packages\\sklearn\\linear_model\\_stochastic_gradient.py\", line 153, in _more_validate_params\n",
      "    raise ValueError(\"eta0 must be > 0\")\n",
      "ValueError: eta0 must be > 0\n",
      "\n",
      "--------------------------------------------------------------------------------\n",
      "10 fits failed with the following error:\n",
      "Traceback (most recent call last):\n",
      "  File \"F:\\anaconda\\Lib\\site-packages\\sklearn\\model_selection\\_validation.py\", line 732, in _fit_and_score\n",
      "    estimator.fit(X_train, y_train, **fit_params)\n",
      "  File \"F:\\anaconda\\Lib\\site-packages\\sklearn\\base.py\", line 1144, in wrapper\n",
      "    estimator._validate_params()\n",
      "  File \"F:\\anaconda\\Lib\\site-packages\\sklearn\\base.py\", line 637, in _validate_params\n",
      "    validate_parameter_constraints(\n",
      "  File \"F:\\anaconda\\Lib\\site-packages\\sklearn\\utils\\_param_validation.py\", line 95, in validate_parameter_constraints\n",
      "    raise InvalidParameterError(\n",
      "sklearn.utils._param_validation.InvalidParameterError: The 'loss' parameter of SGDClassifier must be a str among {'hinge', 'modified_huber', 'epsilon_insensitive', 'perceptron', 'squared_error', 'huber', 'log_loss', 'squared_hinge', 'squared_epsilon_insensitive'}. Got 'log' instead.\n",
      "\n",
      "--------------------------------------------------------------------------------\n",
      "20 fits failed with the following error:\n",
      "Traceback (most recent call last):\n",
      "  File \"F:\\anaconda\\Lib\\site-packages\\sklearn\\model_selection\\_validation.py\", line 732, in _fit_and_score\n",
      "    estimator.fit(X_train, y_train, **fit_params)\n",
      "  File \"F:\\anaconda\\Lib\\site-packages\\sklearn\\base.py\", line 1144, in wrapper\n",
      "    estimator._validate_params()\n",
      "  File \"F:\\anaconda\\Lib\\site-packages\\sklearn\\base.py\", line 637, in _validate_params\n",
      "    validate_parameter_constraints(\n",
      "  File \"F:\\anaconda\\Lib\\site-packages\\sklearn\\utils\\_param_validation.py\", line 95, in validate_parameter_constraints\n",
      "    raise InvalidParameterError(\n",
      "sklearn.utils._param_validation.InvalidParameterError: The 'loss' parameter of SGDClassifier must be a str among {'squared_epsilon_insensitive', 'hinge', 'log_loss', 'modified_huber', 'huber', 'squared_hinge', 'epsilon_insensitive', 'perceptron', 'squared_error'}. Got 'log' instead.\n",
      "\n",
      "--------------------------------------------------------------------------------\n",
      "33 fits failed with the following error:\n",
      "Traceback (most recent call last):\n",
      "  File \"F:\\anaconda\\Lib\\site-packages\\sklearn\\model_selection\\_validation.py\", line 732, in _fit_and_score\n",
      "    estimator.fit(X_train, y_train, **fit_params)\n",
      "  File \"F:\\anaconda\\Lib\\site-packages\\sklearn\\base.py\", line 1144, in wrapper\n",
      "    estimator._validate_params()\n",
      "  File \"F:\\anaconda\\Lib\\site-packages\\sklearn\\base.py\", line 637, in _validate_params\n",
      "    validate_parameter_constraints(\n",
      "  File \"F:\\anaconda\\Lib\\site-packages\\sklearn\\utils\\_param_validation.py\", line 95, in validate_parameter_constraints\n",
      "    raise InvalidParameterError(\n",
      "sklearn.utils._param_validation.InvalidParameterError: The 'loss' parameter of SGDClassifier must be a str among {'modified_huber', 'perceptron', 'epsilon_insensitive', 'log_loss', 'squared_hinge', 'hinge', 'squared_epsilon_insensitive', 'huber', 'squared_error'}. Got 'log' instead.\n",
      "\n",
      "--------------------------------------------------------------------------------\n",
      "9 fits failed with the following error:\n",
      "Traceback (most recent call last):\n",
      "  File \"F:\\anaconda\\Lib\\site-packages\\sklearn\\model_selection\\_validation.py\", line 732, in _fit_and_score\n",
      "    estimator.fit(X_train, y_train, **fit_params)\n",
      "  File \"F:\\anaconda\\Lib\\site-packages\\sklearn\\base.py\", line 1144, in wrapper\n",
      "    estimator._validate_params()\n",
      "  File \"F:\\anaconda\\Lib\\site-packages\\sklearn\\base.py\", line 637, in _validate_params\n",
      "    validate_parameter_constraints(\n",
      "  File \"F:\\anaconda\\Lib\\site-packages\\sklearn\\utils\\_param_validation.py\", line 95, in validate_parameter_constraints\n",
      "    raise InvalidParameterError(\n",
      "sklearn.utils._param_validation.InvalidParameterError: The 'loss' parameter of SGDClassifier must be a str among {'hinge', 'squared_error', 'huber', 'squared_epsilon_insensitive', 'squared_hinge', 'log_loss', 'epsilon_insensitive', 'modified_huber', 'perceptron'}. Got 'log' instead.\n",
      "\n",
      "--------------------------------------------------------------------------------\n",
      "2 fits failed with the following error:\n",
      "Traceback (most recent call last):\n",
      "  File \"F:\\anaconda\\Lib\\site-packages\\sklearn\\model_selection\\_validation.py\", line 732, in _fit_and_score\n",
      "    estimator.fit(X_train, y_train, **fit_params)\n",
      "  File \"F:\\anaconda\\Lib\\site-packages\\sklearn\\base.py\", line 1144, in wrapper\n",
      "    estimator._validate_params()\n",
      "  File \"F:\\anaconda\\Lib\\site-packages\\sklearn\\base.py\", line 637, in _validate_params\n",
      "    validate_parameter_constraints(\n",
      "  File \"F:\\anaconda\\Lib\\site-packages\\sklearn\\utils\\_param_validation.py\", line 95, in validate_parameter_constraints\n",
      "    raise InvalidParameterError(\n",
      "sklearn.utils._param_validation.InvalidParameterError: The 'loss' parameter of SGDClassifier must be a str among {'log_loss', 'squared_epsilon_insensitive', 'squared_error', 'squared_hinge', 'perceptron', 'epsilon_insensitive', 'hinge', 'huber', 'modified_huber'}. Got 'log' instead.\n",
      "\n",
      "--------------------------------------------------------------------------------\n",
      "6 fits failed with the following error:\n",
      "Traceback (most recent call last):\n",
      "  File \"F:\\anaconda\\Lib\\site-packages\\sklearn\\model_selection\\_validation.py\", line 732, in _fit_and_score\n",
      "    estimator.fit(X_train, y_train, **fit_params)\n",
      "  File \"F:\\anaconda\\Lib\\site-packages\\sklearn\\base.py\", line 1144, in wrapper\n",
      "    estimator._validate_params()\n",
      "  File \"F:\\anaconda\\Lib\\site-packages\\sklearn\\base.py\", line 637, in _validate_params\n",
      "    validate_parameter_constraints(\n",
      "  File \"F:\\anaconda\\Lib\\site-packages\\sklearn\\utils\\_param_validation.py\", line 95, in validate_parameter_constraints\n",
      "    raise InvalidParameterError(\n",
      "sklearn.utils._param_validation.InvalidParameterError: The 'loss' parameter of SGDClassifier must be a str among {'hinge', 'epsilon_insensitive', 'squared_error', 'modified_huber', 'huber', 'perceptron', 'squared_hinge', 'log_loss', 'squared_epsilon_insensitive'}. Got 'log' instead.\n",
      "\n",
      "  warnings.warn(some_fits_failed_message, FitFailedWarning)\n",
      "F:\\anaconda\\Lib\\site-packages\\sklearn\\model_selection\\_search.py:976: UserWarning: One or more of the test scores are non-finite: [0.5396906  0.57682309        nan        nan 0.4908959  0.53297326\n",
      "        nan        nan        nan        nan        nan        nan\n",
      "        nan        nan        nan        nan        nan        nan\n",
      " 0.52728471 0.41311558        nan        nan 0.53311576 0.53851904\n",
      "        nan        nan        nan        nan        nan        nan\n",
      "        nan        nan        nan        nan        nan        nan\n",
      " 0.49678429 0.26638558        nan        nan 0.52368326 0.40062366\n",
      "        nan        nan        nan        nan        nan        nan\n",
      "        nan        nan        nan        nan        nan        nan]\n",
      "  warnings.warn(\n"
     ]
    },
    {
     "name": "stdout",
     "output_type": "stream",
     "text": [
      "Best Parameters: {'alpha': 0.0001, 'learning_rate': 'optimal', 'loss': 'hinge', 'penalty': 'l1'}\n",
      "Best Accuracy: 0.5768230940761756\n"
     ]
    }
   ],
   "source": [
    "# Tuning for count-based SVM model\n",
    "param_grid = {\n",
    "    'loss': ['hinge', 'log', 'modified_huber'],\n",
    "    'alpha': [0.0001, 0.001, 0.01],\n",
    "    'penalty': ['l2', 'l1'],\n",
    "    'learning_rate': ['optimal', 'constant', 'adaptive']\n",
    "}\n",
    "\n",
    "# 创建GridSearchCV对象\n",
    "grid_search = GridSearchCV(estimator=SGDClassifier(random_state=42),\n",
    "                           param_grid=param_grid,\n",
    "                           scoring='accuracy',\n",
    "                           cv=5,\n",
    "                           n_jobs=-1)\n",
    "\n",
    "# 执行网格搜索\n",
    "grid_search.fit(X_train_count, y_train)\n",
    "\n",
    "# 输出最佳参数组合和最佳得分\n",
    "print(\"Best Parameters:\", grid_search.best_params_)\n",
    "print(\"Best Accuracy:\", grid_search.best_score_)"
   ]
  },
  {
   "cell_type": "code",
   "execution_count": 23,
   "metadata": {},
   "outputs": [
    {
     "name": "stdout",
     "output_type": "stream",
     "text": [
      "The classification report for SVM_3_count.\n",
      "Accuracy: 0.5962099125364432\n",
      "\n",
      "                    precision    recall  f1-score   support\n",
      "\n",
      "Extremely Negative       0.64      0.70      0.67       790\n",
      "Extremely Positive       0.70      0.74      0.72      1005\n",
      "          Negative       0.51      0.45      0.48      1516\n",
      "           Neutral       0.59      0.83      0.69      1176\n",
      "          Positive       0.57      0.43      0.49      1687\n",
      "\n",
      "          accuracy                           0.60      6174\n",
      "         macro avg       0.60      0.63      0.61      6174\n",
      "      weighted avg       0.59      0.60      0.59      6174\n",
      "\n",
      "\n",
      "Example of a correctly classified datapoint:\n",
      "True Label: Extremely Negative\n",
      "Predicted Label: Extremely Negative\n",
      "Text: #CoronaCrisis Panic buyers hoarding food should be treated as looters in a riot and be sentenced to self isolate for two weeks in a cell. I cannot believe how selfish people can be! It is appalling behaviour.\n",
      "\n",
      "Example of a wrongly classified datapoint:\n",
      "True Label: Negative\n",
      "Predicted Label: Extremely Negative\n",
      "Text: #DidYouKnow \n",
      "Fortuitously, the #coronavirus crisis has coincided with a sharp decline in oil prices. Given its vast imports, India gains $15 billion for each $10-per-barrel decline in oil price. For more updates, click here https://t.co/b387p8ilPT\n"
     ]
    }
   ],
   "source": [
    "# Tuned count-based SVM_3 Model\n",
    "SVM_3 = SGDClassifier(alpha=0.0001, learning_rate='optimal', loss='hinge', penalty='l1', random_state = 42)\n",
    "\n",
    "SVM_3.fit(X_train_count, y_train)\n",
    "y_hat_validation_SVM_3_c = SVM_3.predict(X_validation_count)\n",
    "\n",
    "report(y_hat_validation_SVM_3_c, y_validation, 'SVM_3_count',X_text = X_validation)"
   ]
  },
  {
   "cell_type": "markdown",
   "metadata": {
    "id": "S9zmQoa74-1_"
   },
   "source": [
    "---"
   ]
  },
  {
   "cell_type": "markdown",
   "metadata": {
    "id": "fV-1eX7y4-1_"
   },
   "source": [
    "## Question 6 (15 points)\n",
    "\n",
    "Design, develop and train a (simple!) **neural network-based classifier** for this task, using scikit-learn or PyTorch. The classifier can have the structure that you prefer, just make sure to motivate your choices. If in doubt, try with a bag of embeddings classifier.\n",
    "\n",
    "*Note: an NN-based classifier with scikit-learn yields 5 points max; one with PyTorch yields 10 points max; one with PyTorch and pre-trained embeddings yields 15 points max.*\n",
    "\n",
    "Use your classification report function and the validation set to report on the performance of your baseline. *Pay attention: the validation data only needs to be transformed, and must not be used to fit any transformation. For example, if you have used a TF-IDF vectorizer by fitting it to your train data and then transformed it, use the same fitted vectorizer to transform your validation data.*"
   ]
  },
  {
   "cell_type": "code",
   "execution_count": 24,
   "metadata": {
    "id": "tDn5kJj54-2A"
   },
   "outputs": [
    {
     "name": "stdout",
     "output_type": "stream",
     "text": [
      "The classification report for MLP_tfidf.\n",
      "Accuracy: 0.6062520246193716\n",
      "\n",
      "                    precision    recall  f1-score   support\n",
      "\n",
      "Extremely Negative       0.64      0.63      0.64       790\n",
      "Extremely Positive       0.67      0.66      0.67      1005\n",
      "          Negative       0.57      0.56      0.56      1516\n",
      "           Neutral       0.69      0.59      0.64      1176\n",
      "          Positive       0.54      0.61      0.58      1687\n",
      "\n",
      "          accuracy                           0.61      6174\n",
      "         macro avg       0.62      0.61      0.62      6174\n",
      "      weighted avg       0.61      0.61      0.61      6174\n",
      "\n",
      "\n",
      "Example of a correctly classified datapoint:\n",
      "True Label: Negative\n",
      "Predicted Label: Negative\n",
      "Text: My short video on why gold prices have not performed as well in the current uncertain environment 19\n",
      "\n",
      "Example of a wrongly classified datapoint:\n",
      "True Label: Negative\n",
      "Predicted Label: Positive\n",
      "Text: Don t be afraid of It is curable it has it s own time just take precautionary measures A person is recovered in home isolation No need to get panic just calm yourself eat healthy food and remain clean Distancing\n"
     ]
    },
    {
     "name": "stderr",
     "output_type": "stream",
     "text": [
      "F:\\anaconda\\Lib\\site-packages\\sklearn\\neural_network\\_multilayer_perceptron.py:546: ConvergenceWarning: lbfgs failed to converge (status=1):\n",
      "STOP: TOTAL NO. of ITERATIONS REACHED LIMIT.\n",
      "\n",
      "Increase the number of iterations (max_iter) or scale the data as shown in:\n",
      "    https://scikit-learn.org/stable/modules/preprocessing.html\n",
      "  self.n_iter_ = _check_optimize_result(\"lbfgs\", opt_res, self.max_iter)\n"
     ]
    }
   ],
   "source": [
    "# your code here\n",
    "# Default tfidf-based MLP model\n",
    "from sklearn.neural_network import MLPClassifier\n",
    "\n",
    "MLP = MLPClassifier(solver='lbfgs')\n",
    "\n",
    "MLP.fit(X_train_tfidf, y_train)\n",
    "y_hat_validation_MLP = MLP.predict(X_validation_tfidf)\n",
    "\n",
    "report(y_hat_validation_MLP, y_validation, 'MLP_tfidf',X_text = X_validation)"
   ]
  },
  {
   "cell_type": "code",
   "execution_count": 25,
   "metadata": {},
   "outputs": [
    {
     "name": "stdout",
     "output_type": "stream",
     "text": [
      "The classification report for MLP_count.\n",
      "Accuracy: 0.6018788467768059\n",
      "\n",
      "                    precision    recall  f1-score   support\n",
      "\n",
      "Extremely Negative       0.66      0.63      0.65       790\n",
      "Extremely Positive       0.69      0.66      0.67      1005\n",
      "          Negative       0.54      0.54      0.54      1516\n",
      "           Neutral       0.67      0.66      0.67      1176\n",
      "          Positive       0.54      0.57      0.55      1687\n",
      "\n",
      "          accuracy                           0.60      6174\n",
      "         macro avg       0.62      0.61      0.62      6174\n",
      "      weighted avg       0.60      0.60      0.60      6174\n",
      "\n",
      "\n",
      "Example of a correctly classified datapoint:\n",
      "True Label: Negative\n",
      "Predicted Label: Negative\n",
      "Text: Unfortunately, another way for con artists to prey on the #elderly via #coronavirus #scams #grandparents\n",
      "https://t.co/bBLLT0a8A1\n",
      "\n",
      "Example of a wrongly classified datapoint:\n",
      "True Label: Negative\n",
      "Predicted Label: Extremely Negative\n",
      "Text: @HenrySmithUK can you raise with Boris please that supermarket controls for #bulkbuying are NOT working? Shelves still empty. Limits still WAY too high. People panicking. They need to eat, they need supplies. How are you combating this? #CoronaCrisis\n"
     ]
    },
    {
     "name": "stderr",
     "output_type": "stream",
     "text": [
      "F:\\anaconda\\Lib\\site-packages\\sklearn\\neural_network\\_multilayer_perceptron.py:546: ConvergenceWarning: lbfgs failed to converge (status=1):\n",
      "STOP: TOTAL NO. of ITERATIONS REACHED LIMIT.\n",
      "\n",
      "Increase the number of iterations (max_iter) or scale the data as shown in:\n",
      "    https://scikit-learn.org/stable/modules/preprocessing.html\n",
      "  self.n_iter_ = _check_optimize_result(\"lbfgs\", opt_res, self.max_iter)\n"
     ]
    }
   ],
   "source": [
    "# Default count-based MLP model\n",
    "MLP.fit(X_train_count, y_train)\n",
    "y_hat_validation_MLP_c = MLP.predict(X_validation_count)\n",
    "\n",
    "report(y_hat_validation_MLP_c, y_validation, 'MLP_count', X_text = X_validation)"
   ]
  },
  {
   "cell_type": "code",
   "execution_count": 26,
   "metadata": {},
   "outputs": [
    {
     "name": "stdout",
     "output_type": "stream",
     "text": [
      "Best Parameters: {'alpha': 0.0001, 'hidden_layer_sizes': (100,)}\n",
      "Best Accuracy: 0.5454933959502717\n"
     ]
    },
    {
     "name": "stderr",
     "output_type": "stream",
     "text": [
      "F:\\anaconda\\Lib\\site-packages\\sklearn\\neural_network\\_multilayer_perceptron.py:546: ConvergenceWarning: lbfgs failed to converge (status=1):\n",
      "STOP: TOTAL NO. of ITERATIONS REACHED LIMIT.\n",
      "\n",
      "Increase the number of iterations (max_iter) or scale the data as shown in:\n",
      "    https://scikit-learn.org/stable/modules/preprocessing.html\n",
      "  self.n_iter_ = _check_optimize_result(\"lbfgs\", opt_res, self.max_iter)\n"
     ]
    }
   ],
   "source": [
    "# First-round tuning for tfidf-based MLP model\n",
    "params = {\n",
    "    'hidden_layer_sizes': [(100,),(50,)],\n",
    "    'alpha': [0.0001, 0.001],\n",
    "}\n",
    "grid_search = GridSearchCV(estimator=MLPClassifier(solver='lbfgs'),\n",
    "                           param_grid=params,\n",
    "                           scoring='accuracy',\n",
    "                           cv=2,\n",
    "                           n_jobs=-1)\n",
    "\n",
    "grid_search.fit(X_train_tfidf, y_train)\n",
    "\n",
    "print(\"Best Parameters:\", grid_search.best_params_)\n",
    "print(\"Best Accuracy:\", grid_search.best_score_)"
   ]
  },
  {
   "cell_type": "code",
   "execution_count": 27,
   "metadata": {},
   "outputs": [
    {
     "name": "stdout",
     "output_type": "stream",
     "text": [
      "The classification report for MLP_tfidf_2.\n",
      "Accuracy: 0.6114350502105604\n",
      "\n",
      "                    precision    recall  f1-score   support\n",
      "\n",
      "Extremely Negative       0.65      0.65      0.65       790\n",
      "Extremely Positive       0.67      0.68      0.68      1005\n",
      "          Negative       0.57      0.54      0.55      1516\n",
      "           Neutral       0.64      0.66      0.65      1176\n",
      "          Positive       0.57      0.58      0.58      1687\n",
      "\n",
      "          accuracy                           0.61      6174\n",
      "         macro avg       0.62      0.62      0.62      6174\n",
      "      weighted avg       0.61      0.61      0.61      6174\n",
      "\n",
      "\n",
      "Example of a correctly classified datapoint:\n",
      "True Label: Neutral\n",
      "Predicted Label: Neutral\n",
      "Text: Americans Stock Up On Food as COVID-19 Concerns Rise. the only thing i bought on this list is a few extra boxes of pasta...https://t.co/C0z5g5aTmj\n",
      "\n",
      "Example of a wrongly classified datapoint:\n",
      "True Label: Neutral\n",
      "Predicted Label: Positive\n",
      "Text: HCASA Board statement on consumer advocate participation during COVID-19 pandemic.\n",
      "\n",
      "For more information contact info@hcasa.asn.au\n",
      "\n",
      "#ConsumerEngagement #ConsumerParticipation #COVID2019Aus https://t.co/cxXx3ehIaA\n"
     ]
    },
    {
     "name": "stderr",
     "output_type": "stream",
     "text": [
      "F:\\anaconda\\Lib\\site-packages\\sklearn\\neural_network\\_multilayer_perceptron.py:546: ConvergenceWarning: lbfgs failed to converge (status=1):\n",
      "STOP: TOTAL NO. of ITERATIONS REACHED LIMIT.\n",
      "\n",
      "Increase the number of iterations (max_iter) or scale the data as shown in:\n",
      "    https://scikit-learn.org/stable/modules/preprocessing.html\n",
      "  self.n_iter_ = _check_optimize_result(\"lbfgs\", opt_res, self.max_iter)\n"
     ]
    }
   ],
   "source": [
    "# Tuned tfidf-based MLP_2 model with single hidden layer with size of 100\n",
    "MLP_2 = MLPClassifier(solver='lbfgs',alpha = 0.0001, hidden_layer_sizes=(100,))\n",
    "\n",
    "MLP_2.fit(X_train_tfidf, y_train)\n",
    "y_hat_validation_MLP_2 = MLP_2.predict(X_validation_tfidf)\n",
    "\n",
    "report(y_hat_validation_MLP_2, y_validation, 'MLP_tfidf_2',X_text = X_validation)"
   ]
  },
  {
   "cell_type": "code",
   "execution_count": 28,
   "metadata": {},
   "outputs": [
    {
     "name": "stdout",
     "output_type": "stream",
     "text": [
      "Best Parameters: {'alpha': 0.001, 'hidden_layer_sizes': (100, 50)}\n",
      "Best Accuracy: 0.5594142120825185\n"
     ]
    },
    {
     "name": "stderr",
     "output_type": "stream",
     "text": [
      "F:\\anaconda\\Lib\\site-packages\\sklearn\\neural_network\\_multilayer_perceptron.py:546: ConvergenceWarning: lbfgs failed to converge (status=1):\n",
      "STOP: TOTAL NO. of ITERATIONS REACHED LIMIT.\n",
      "\n",
      "Increase the number of iterations (max_iter) or scale the data as shown in:\n",
      "    https://scikit-learn.org/stable/modules/preprocessing.html\n",
      "  self.n_iter_ = _check_optimize_result(\"lbfgs\", opt_res, self.max_iter)\n"
     ]
    }
   ],
   "source": [
    "# Second-round tuning for tfidf-based MLP model\n",
    "params = {\n",
    "    'hidden_layer_sizes': [(100,),(100,50)],\n",
    "    'alpha': [0.0001, 0.001],\n",
    "}\n",
    "grid_search = GridSearchCV(estimator=MLPClassifier(solver='lbfgs'),\n",
    "                           param_grid=params,\n",
    "                           scoring='accuracy',\n",
    "                           cv=2,\n",
    "                           n_jobs=-1)\n",
    "\n",
    "grid_search.fit(X_train_tfidf, y_train)\n",
    "\n",
    "print(\"Best Parameters:\", grid_search.best_params_)\n",
    "print(\"Best Accuracy:\", grid_search.best_score_)"
   ]
  },
  {
   "cell_type": "code",
   "execution_count": 29,
   "metadata": {},
   "outputs": [
    {
     "name": "stdout",
     "output_type": "stream",
     "text": [
      "The classification report for MLP_tfidf_3.\n",
      "Accuracy: 0.6214771622934888\n",
      "\n",
      "                    precision    recall  f1-score   support\n",
      "\n",
      "Extremely Negative       0.68      0.61      0.65       790\n",
      "Extremely Positive       0.68      0.68      0.68      1005\n",
      "          Negative       0.57      0.59      0.58      1516\n",
      "           Neutral       0.66      0.66      0.66      1176\n",
      "          Positive       0.58      0.59      0.59      1687\n",
      "\n",
      "          accuracy                           0.62      6174\n",
      "         macro avg       0.64      0.63      0.63      6174\n",
      "      weighted avg       0.62      0.62      0.62      6174\n",
      "\n",
      "\n",
      "Example of a correctly classified datapoint:\n",
      "True Label: Negative\n",
      "Predicted Label: Negative\n",
      "Text: Huntsman Corp announced it is producing hand sanitizer and will donate the first five tons to the Huntsman Cancer Institute and other University of Utah health providers Find the latest updates on the in Utah here\n",
      "\n",
      "Example of a wrongly classified datapoint:\n",
      "True Label: Neutral\n",
      "Predicted Label: Positive\n",
      "Text: Our new #servicedog  is #trained to not only help with calming us down in these hard times of #corvid19 #coronavirus but to also have a #supply of #toiletpaper in these #hardtimes #furbabylove #pet #cbdofri #canamedÂ",
      " https://t.co/lhoOFgoxCv\n"
     ]
    },
    {
     "name": "stderr",
     "output_type": "stream",
     "text": [
      "F:\\anaconda\\Lib\\site-packages\\sklearn\\neural_network\\_multilayer_perceptron.py:546: ConvergenceWarning: lbfgs failed to converge (status=1):\n",
      "STOP: TOTAL NO. of ITERATIONS REACHED LIMIT.\n",
      "\n",
      "Increase the number of iterations (max_iter) or scale the data as shown in:\n",
      "    https://scikit-learn.org/stable/modules/preprocessing.html\n",
      "  self.n_iter_ = _check_optimize_result(\"lbfgs\", opt_res, self.max_iter)\n"
     ]
    }
   ],
   "source": [
    "# Tuned tfidf-based MLP model with 2 hidden layers\n",
    "MLP_3 = MLPClassifier(solver='lbfgs',alpha = 0.001, hidden_layer_sizes=(100,50))\n",
    "\n",
    "MLP_3.fit(X_train_tfidf, y_train)\n",
    "y_hat_validation_MLP_3 = MLP_3.predict(X_validation_tfidf)\n",
    "\n",
    "report(y_hat_validation_MLP_3, y_validation, 'MLP_tfidf_3',X_text = X_validation)"
   ]
  },
  {
   "cell_type": "code",
   "execution_count": 30,
   "metadata": {},
   "outputs": [
    {
     "name": "stdout",
     "output_type": "stream",
     "text": [
      "Best Parameters: {'alpha': 0.0001, 'hidden_layer_sizes': (100, 50)}\n",
      "Best Accuracy: 0.5848557076356267\n"
     ]
    },
    {
     "name": "stderr",
     "output_type": "stream",
     "text": [
      "F:\\anaconda\\Lib\\site-packages\\sklearn\\neural_network\\_multilayer_perceptron.py:546: ConvergenceWarning: lbfgs failed to converge (status=1):\n",
      "STOP: TOTAL NO. of ITERATIONS REACHED LIMIT.\n",
      "\n",
      "Increase the number of iterations (max_iter) or scale the data as shown in:\n",
      "    https://scikit-learn.org/stable/modules/preprocessing.html\n",
      "  self.n_iter_ = _check_optimize_result(\"lbfgs\", opt_res, self.max_iter)\n"
     ]
    }
   ],
   "source": [
    "# Tuning for the count-based MLP model\n",
    "params = {\n",
    "    'hidden_layer_sizes': [(50,),(100,),(100,50)],\n",
    "    'alpha': [0.0001, 0.001],\n",
    "}\n",
    "grid_search = GridSearchCV(estimator=MLPClassifier(solver='lbfgs'),\n",
    "                           param_grid=params,\n",
    "                           scoring='accuracy',\n",
    "                           cv=2,\n",
    "                           n_jobs=-1)\n",
    "\n",
    "grid_search.fit(X_train_count, y_train)\n",
    "\n",
    "print(\"Best Parameters:\", grid_search.best_params_)\n",
    "print(\"Best Accuracy:\", grid_search.best_score_)"
   ]
  },
  {
   "cell_type": "code",
   "execution_count": 31,
   "metadata": {},
   "outputs": [
    {
     "name": "stdout",
     "output_type": "stream",
     "text": [
      "The classification report for MLP_count_4.\n",
      "Accuracy: 0.6504697116942015\n",
      "\n",
      "                    precision    recall  f1-score   support\n",
      "\n",
      "Extremely Negative       0.72      0.67      0.69       790\n",
      "Extremely Positive       0.75      0.68      0.71      1005\n",
      "          Negative       0.59      0.59      0.59      1516\n",
      "           Neutral       0.71      0.70      0.71      1176\n",
      "          Positive       0.59      0.64      0.61      1687\n",
      "\n",
      "          accuracy                           0.65      6174\n",
      "         macro avg       0.67      0.66      0.66      6174\n",
      "      weighted avg       0.65      0.65      0.65      6174\n",
      "\n",
      "\n",
      "Example of a correctly classified datapoint:\n",
      "True Label: Positive\n",
      "Predicted Label: Positive\n",
      "Text: Sourland Mountain Spirits has switched from producing craft spirits to producing hand sanitizer to fight #coronavirus. https://t.co/aYR6szlzuO\n",
      "\n",
      "Example of a wrongly classified datapoint:\n",
      "True Label: Positive\n",
      "Predicted Label: Negative\n",
      "Text: In the hour since I posted this, people have contacted me with their sales figures. Some are spectacular. The spike in sales is real.\n",
      "\n",
      "Take heart, everybody. We're in an awful time, but people think wine is important. https://t.co/8nEywszim1\n"
     ]
    },
    {
     "name": "stderr",
     "output_type": "stream",
     "text": [
      "F:\\anaconda\\Lib\\site-packages\\sklearn\\neural_network\\_multilayer_perceptron.py:546: ConvergenceWarning: lbfgs failed to converge (status=1):\n",
      "STOP: TOTAL NO. of ITERATIONS REACHED LIMIT.\n",
      "\n",
      "Increase the number of iterations (max_iter) or scale the data as shown in:\n",
      "    https://scikit-learn.org/stable/modules/preprocessing.html\n",
      "  self.n_iter_ = _check_optimize_result(\"lbfgs\", opt_res, self.max_iter)\n"
     ]
    }
   ],
   "source": [
    "# Tuned count-based MLP model\n",
    "MLP_4 = MLPClassifier(solver='lbfgs',alpha = 0.0001, hidden_layer_sizes=(100,50))\n",
    "\n",
    "MLP_4.fit(X_train_count, y_train)\n",
    "y_hat_validation_MLP_4 = MLP_4.predict(X_validation_count)\n",
    "\n",
    "report(y_hat_validation_MLP_4, y_validation, 'MLP_count_4',X_text = X_validation)"
   ]
  },
  {
   "cell_type": "markdown",
   "metadata": {
    "id": "A8K-n8Ak4-2A"
   },
   "source": [
    "---"
   ]
  },
  {
   "cell_type": "markdown",
   "metadata": {
    "id": "hjiTUFSZ4-2A"
   },
   "source": [
    "# Evaluating your classifiers (20 points)"
   ]
  },
  {
   "cell_type": "markdown",
   "metadata": {
    "id": "H9JXwtnF4-2B"
   },
   "source": [
    "## Question 7 (10 points)\n",
    "\n",
    "Evaluate the performance of your models on the **test set**. Make sure to transform your test data as you did for your train data, and as needed for each classifier. *Pay attention: the test data only needs to be transformed, and must not be used to fit any transformation. For example, if you have used a TF-IDF vectorizer by fitting it to your train data and then transformed your train and validation with it, use the same fitted vectorizer to transform your test data.*\n",
    "\n",
    "* Report the accuracy of each classifier, as well as its precision, recall and F1 score. \n",
    "* Plot a [confusion matrix](https://scikit-learn.org/stable/auto_examples/model_selection/plot_confusion_matrix.html) for your best classifier.\n",
    "* Briefly discuss your results."
   ]
  },
  {
   "cell_type": "code",
   "execution_count": 32,
   "metadata": {
    "id": "FDr66A_j4-2B"
   },
   "outputs": [],
   "source": [
    "df_test = pd.read_csv(\"data/Corona_NLP_test.csv\")"
   ]
  },
  {
   "cell_type": "code",
   "execution_count": 33,
   "metadata": {
    "id": "WFviO9dr4-2B"
   },
   "outputs": [
    {
     "data": {
      "text/html": [
       "<div>\n",
       "<style scoped>\n",
       "    .dataframe tbody tr th:only-of-type {\n",
       "        vertical-align: middle;\n",
       "    }\n",
       "\n",
       "    .dataframe tbody tr th {\n",
       "        vertical-align: top;\n",
       "    }\n",
       "\n",
       "    .dataframe thead th {\n",
       "        text-align: right;\n",
       "    }\n",
       "</style>\n",
       "<table border=\"1\" class=\"dataframe\">\n",
       "  <thead>\n",
       "    <tr style=\"text-align: right;\">\n",
       "      <th></th>\n",
       "      <th>UserName</th>\n",
       "      <th>ScreenName</th>\n",
       "      <th>Location</th>\n",
       "      <th>TweetAt</th>\n",
       "      <th>OriginalTweet</th>\n",
       "      <th>Sentiment</th>\n",
       "    </tr>\n",
       "  </thead>\n",
       "  <tbody>\n",
       "    <tr>\n",
       "      <th>0</th>\n",
       "      <td>1</td>\n",
       "      <td>44953</td>\n",
       "      <td>NYC</td>\n",
       "      <td>02-03-2020</td>\n",
       "      <td>TRENDING: New Yorkers encounter empty supermar...</td>\n",
       "      <td>Extremely Negative</td>\n",
       "    </tr>\n",
       "    <tr>\n",
       "      <th>1</th>\n",
       "      <td>2</td>\n",
       "      <td>44954</td>\n",
       "      <td>Seattle, WA</td>\n",
       "      <td>02-03-2020</td>\n",
       "      <td>When I couldn't find hand sanitizer at Fred Me...</td>\n",
       "      <td>Positive</td>\n",
       "    </tr>\n",
       "    <tr>\n",
       "      <th>2</th>\n",
       "      <td>3</td>\n",
       "      <td>44955</td>\n",
       "      <td>NaN</td>\n",
       "      <td>02-03-2020</td>\n",
       "      <td>Find out how you can protect yourself and love...</td>\n",
       "      <td>Extremely Positive</td>\n",
       "    </tr>\n",
       "    <tr>\n",
       "      <th>3</th>\n",
       "      <td>4</td>\n",
       "      <td>44956</td>\n",
       "      <td>Chicagoland</td>\n",
       "      <td>02-03-2020</td>\n",
       "      <td>#Panic buying hits #NewYork City as anxious sh...</td>\n",
       "      <td>Negative</td>\n",
       "    </tr>\n",
       "    <tr>\n",
       "      <th>4</th>\n",
       "      <td>5</td>\n",
       "      <td>44957</td>\n",
       "      <td>Melbourne, Victoria</td>\n",
       "      <td>03-03-2020</td>\n",
       "      <td>#toiletpaper #dunnypaper #coronavirus #coronav...</td>\n",
       "      <td>Neutral</td>\n",
       "    </tr>\n",
       "  </tbody>\n",
       "</table>\n",
       "</div>"
      ],
      "text/plain": [
       "   UserName  ScreenName             Location     TweetAt  \\\n",
       "0         1       44953                  NYC  02-03-2020   \n",
       "1         2       44954          Seattle, WA  02-03-2020   \n",
       "2         3       44955                  NaN  02-03-2020   \n",
       "3         4       44956          Chicagoland  02-03-2020   \n",
       "4         5       44957  Melbourne, Victoria  03-03-2020   \n",
       "\n",
       "                                       OriginalTweet           Sentiment  \n",
       "0  TRENDING: New Yorkers encounter empty supermar...  Extremely Negative  \n",
       "1  When I couldn't find hand sanitizer at Fred Me...            Positive  \n",
       "2  Find out how you can protect yourself and love...  Extremely Positive  \n",
       "3  #Panic buying hits #NewYork City as anxious sh...            Negative  \n",
       "4  #toiletpaper #dunnypaper #coronavirus #coronav...             Neutral  "
      ]
     },
     "execution_count": 33,
     "metadata": {},
     "output_type": "execute_result"
    }
   ],
   "source": [
    "# your code here\n",
    "df_test.head()"
   ]
  },
  {
   "cell_type": "code",
   "execution_count": 34,
   "metadata": {},
   "outputs": [
    {
     "name": "stdout",
     "output_type": "stream",
     "text": [
      "(3798,) (3798,) 3798\n"
     ]
    },
    {
     "data": {
      "text/html": [
       "<div>\n",
       "<style scoped>\n",
       "    .dataframe tbody tr th:only-of-type {\n",
       "        vertical-align: middle;\n",
       "    }\n",
       "\n",
       "    .dataframe tbody tr th {\n",
       "        vertical-align: top;\n",
       "    }\n",
       "\n",
       "    .dataframe thead th {\n",
       "        text-align: right;\n",
       "    }\n",
       "</style>\n",
       "<table border=\"1\" class=\"dataframe\">\n",
       "  <thead>\n",
       "    <tr style=\"text-align: right;\">\n",
       "      <th></th>\n",
       "      <th>UserName</th>\n",
       "      <th>ScreenName</th>\n",
       "      <th>Location</th>\n",
       "      <th>TweetAt</th>\n",
       "      <th>OriginalTweet</th>\n",
       "      <th>Sentiment</th>\n",
       "      <th>Sentiment_label</th>\n",
       "    </tr>\n",
       "  </thead>\n",
       "  <tbody>\n",
       "    <tr>\n",
       "      <th>0</th>\n",
       "      <td>1</td>\n",
       "      <td>44953</td>\n",
       "      <td>NYC</td>\n",
       "      <td>02-03-2020</td>\n",
       "      <td>TRENDING: New Yorkers encounter empty supermar...</td>\n",
       "      <td>Extremely Negative</td>\n",
       "      <td>-2</td>\n",
       "    </tr>\n",
       "    <tr>\n",
       "      <th>1</th>\n",
       "      <td>2</td>\n",
       "      <td>44954</td>\n",
       "      <td>Seattle, WA</td>\n",
       "      <td>02-03-2020</td>\n",
       "      <td>When I couldn't find hand sanitizer at Fred Me...</td>\n",
       "      <td>Positive</td>\n",
       "      <td>1</td>\n",
       "    </tr>\n",
       "    <tr>\n",
       "      <th>2</th>\n",
       "      <td>3</td>\n",
       "      <td>44955</td>\n",
       "      <td>NaN</td>\n",
       "      <td>02-03-2020</td>\n",
       "      <td>Find out how you can protect yourself and love...</td>\n",
       "      <td>Extremely Positive</td>\n",
       "      <td>2</td>\n",
       "    </tr>\n",
       "    <tr>\n",
       "      <th>3</th>\n",
       "      <td>4</td>\n",
       "      <td>44956</td>\n",
       "      <td>Chicagoland</td>\n",
       "      <td>02-03-2020</td>\n",
       "      <td>#Panic buying hits #NewYork City as anxious sh...</td>\n",
       "      <td>Negative</td>\n",
       "      <td>-1</td>\n",
       "    </tr>\n",
       "    <tr>\n",
       "      <th>4</th>\n",
       "      <td>5</td>\n",
       "      <td>44957</td>\n",
       "      <td>Melbourne, Victoria</td>\n",
       "      <td>03-03-2020</td>\n",
       "      <td>#toiletpaper #dunnypaper #coronavirus #coronav...</td>\n",
       "      <td>Neutral</td>\n",
       "      <td>0</td>\n",
       "    </tr>\n",
       "  </tbody>\n",
       "</table>\n",
       "</div>"
      ],
      "text/plain": [
       "   UserName  ScreenName             Location     TweetAt  \\\n",
       "0         1       44953                  NYC  02-03-2020   \n",
       "1         2       44954          Seattle, WA  02-03-2020   \n",
       "2         3       44955                  NaN  02-03-2020   \n",
       "3         4       44956          Chicagoland  02-03-2020   \n",
       "4         5       44957  Melbourne, Victoria  03-03-2020   \n",
       "\n",
       "                                       OriginalTweet           Sentiment  \\\n",
       "0  TRENDING: New Yorkers encounter empty supermar...  Extremely Negative   \n",
       "1  When I couldn't find hand sanitizer at Fred Me...            Positive   \n",
       "2  Find out how you can protect yourself and love...  Extremely Positive   \n",
       "3  #Panic buying hits #NewYork City as anxious sh...            Negative   \n",
       "4  #toiletpaper #dunnypaper #coronavirus #coronav...             Neutral   \n",
       "\n",
       "   Sentiment_label  \n",
       "0               -2  \n",
       "1                1  \n",
       "2                2  \n",
       "3               -1  \n",
       "4                0  "
      ]
     },
     "execution_count": 34,
     "metadata": {},
     "output_type": "execute_result"
    }
   ],
   "source": [
    "Original_Tweet_testfile = df_test['OriginalTweet'].values\n",
    "Sentiment_testfile = df_test['Sentiment'].values\n",
    "\n",
    "sentiment_encoded_test = [custom_label_encoding(label) for label in Sentiment_testfile]\n",
    "\n",
    "# Add sentiment numeric labels to the dataframe and store it to a var\n",
    "df_test['Sentiment_label'] = sentiment_encoded_test\n",
    "Sentiment_label_test = df_test['Sentiment_label'].values\n",
    "\n",
    "print(Original_Tweet_testfile.shape, Sentiment_testfile.shape, len(sentiment_encoded_test))\n",
    "df_test.head()"
   ]
  },
  {
   "cell_type": "code",
   "execution_count": 35,
   "metadata": {},
   "outputs": [],
   "source": [
    "X_test_tfidf = tfidf_vectorizer.transform(Original_Tweet_testfile)\n",
    "X_test_count = count_vectorizer.transform(Original_Tweet_testfile)\n",
    "\n",
    "y_test = Sentiment_testfile\n",
    "y_test_numlabel = Sentiment_label_test"
   ]
  },
  {
   "cell_type": "code",
   "execution_count": 46,
   "metadata": {},
   "outputs": [
    {
     "name": "stdout",
     "output_type": "stream",
     "text": [
      "The classification report for Baseline tfidf_log on test set.\n",
      "Accuracy: 0.5284360189573459\n",
      "\n",
      "                    precision    recall  f1-score   support\n",
      "\n",
      "Extremely Negative       0.59      0.48      0.53       592\n",
      "Extremely Positive       0.67      0.48      0.56       599\n",
      "          Negative       0.50      0.48      0.49      1041\n",
      "           Neutral       0.60      0.57      0.58       619\n",
      "          Positive       0.45      0.62      0.52       947\n",
      "\n",
      "          accuracy                           0.53      3798\n",
      "         macro avg       0.56      0.52      0.54      3798\n",
      "      weighted avg       0.54      0.53      0.53      3798\n",
      "\n",
      "\n",
      "Example of a correctly classified datapoint:\n",
      "True Label: Negative\n",
      "Predicted Label: Negative\n",
      "Text: The government: Avoid large crowds. \n",
      "\n",
      "Us: lets all meet up at the grocery store!\n",
      "\n",
      "#coronavirus #coronapocalypse #CoronaOutbreak #Covid_19 #CoronavirusPandemic\n",
      "\n",
      "Example of a wrongly classified datapoint:\n",
      "True Label: Extremely Positive\n",
      "Predicted Label: Positive\n",
      "Text: Just saw this on Amazon: SHIELD AGAINST CORONA-VIRUS: THE BEST GUIDE EVER by RAMOND MOROE https://t.co/cKw2ce8nVe via @amazon\n",
      "#Corona\n",
      "#CoronaVirus\n",
      "#Eureka_Online_Shopping\n"
     ]
    },
    {
     "name": "stderr",
     "output_type": "stream",
     "text": [
      "F:\\anaconda\\Lib\\site-packages\\sklearn\\linear_model\\_logistic.py:460: ConvergenceWarning: lbfgs failed to converge (status=1):\n",
      "STOP: TOTAL NO. of ITERATIONS REACHED LIMIT.\n",
      "\n",
      "Increase the number of iterations (max_iter) or scale the data as shown in:\n",
      "    https://scikit-learn.org/stable/modules/preprocessing.html\n",
      "Please also refer to the documentation for alternative solver options:\n",
      "    https://scikit-learn.org/stable/modules/linear_model.html#logistic-regression\n",
      "  n_iter_i = _check_optimize_result(\n"
     ]
    }
   ],
   "source": [
    "# Baseline tfidf-LogReg\n",
    "logreg.fit(X_train_tfidf, y_train)\n",
    "y_hat_test_tfidf_LogReg = logreg.predict(X_test_tfidf)\n",
    "\n",
    "report(y_hat_test_tfidf_LogReg, y_test, 'Baseline tfidf_log on test set',X_text = Original_Tweet_testfile)\n",
    "Baseline_tfidf_LogReg_ac = accuracy_score(y_test,y_hat_test_tfidf_LogReg)"
   ]
  },
  {
   "cell_type": "code",
   "execution_count": 48,
   "metadata": {},
   "outputs": [
    {
     "name": "stdout",
     "output_type": "stream",
     "text": [
      "{'Baseline_tfidf_LogReg': 0.5284360189573459}\n"
     ]
    }
   ],
   "source": [
    "test_ac_dict = dict()\n",
    "test_ac_dict['Baseline_tfidf_LogReg'] = Baseline_tfidf_LogReg_ac\n",
    "print(test_ac_dict)"
   ]
  },
  {
   "cell_type": "code",
   "execution_count": 49,
   "metadata": {},
   "outputs": [
    {
     "name": "stdout",
     "output_type": "stream",
     "text": [
      "The classification report for Baseline count_log on test set.\n",
      "Accuracy: 0.5413375460768826\n",
      "\n",
      "                    precision    recall  f1-score   support\n",
      "\n",
      "Extremely Negative       0.57      0.55      0.56       592\n",
      "Extremely Positive       0.65      0.55      0.60       599\n",
      "          Negative       0.52      0.45      0.48      1041\n",
      "           Neutral       0.55      0.66      0.60       619\n",
      "          Positive       0.48      0.55      0.52       947\n",
      "\n",
      "          accuracy                           0.54      3798\n",
      "         macro avg       0.56      0.55      0.55      3798\n",
      "      weighted avg       0.54      0.54      0.54      3798\n",
      "\n",
      "\n",
      "Example of a correctly classified datapoint:\n",
      "True Label: Neutral\n",
      "Predicted Label: Neutral\n",
      "Text: Apple retail store closes COVID 19\n",
      "\n",
      "Example of a wrongly classified datapoint:\n",
      "True Label: Positive\n",
      "Predicted Label: Extremely Positive\n",
      "Text: Is there a hashtag for helping folks who WEREN'T able to go to the grocery store &amp; get 3 carts of food?\n",
      "\n",
      "Have any major grocery stores spoken on helping communities &amp; making food available to those who are furloughed, going w/o pay rn?\n",
      "\n",
      "#COVID_19\n",
      "#Coronavirus\n",
      "#CoronavirusPandemic\n"
     ]
    },
    {
     "name": "stderr",
     "output_type": "stream",
     "text": [
      "F:\\anaconda\\Lib\\site-packages\\sklearn\\linear_model\\_logistic.py:460: ConvergenceWarning: lbfgs failed to converge (status=1):\n",
      "STOP: TOTAL NO. of ITERATIONS REACHED LIMIT.\n",
      "\n",
      "Increase the number of iterations (max_iter) or scale the data as shown in:\n",
      "    https://scikit-learn.org/stable/modules/preprocessing.html\n",
      "Please also refer to the documentation for alternative solver options:\n",
      "    https://scikit-learn.org/stable/modules/linear_model.html#logistic-regression\n",
      "  n_iter_i = _check_optimize_result(\n"
     ]
    }
   ],
   "source": [
    "# Baseline Count-LogReg\n",
    "# Remember to fit corresponding data again \n",
    "# if classifer is not differentiated\n",
    "logreg.fit(X_train_count, y_train)\n",
    "y_hat_test_count_LogReg = logreg.predict(X_test_count)\n",
    "\n",
    "report(y_hat_test_count_LogReg, y_test, 'Baseline count_log on test set', X_text = Original_Tweet_testfile)\n",
    "\n",
    "Baseline_count_LogReg_ac = accuracy_score(y_test,y_hat_test_count_LogReg)\n",
    "test_ac_dict['Baseline_count_LogReg'] = Baseline_count_LogReg_ac"
   ]
  },
  {
   "cell_type": "code",
   "execution_count": 50,
   "metadata": {},
   "outputs": [
    {
     "name": "stdout",
     "output_type": "stream",
     "text": [
      "The classification report for Tuned tfidf_log on test set.\n",
      "Accuracy: 0.5629278567667193\n",
      "\n",
      "                    precision    recall  f1-score   support\n",
      "\n",
      "Extremely Negative       0.59      0.60      0.59       592\n",
      "Extremely Positive       0.65      0.64      0.64       599\n",
      "          Negative       0.56      0.42      0.48      1041\n",
      "           Neutral       0.57      0.70      0.63       619\n",
      "          Positive       0.50      0.56      0.53       947\n",
      "\n",
      "          accuracy                           0.56      3798\n",
      "         macro avg       0.57      0.58      0.57      3798\n",
      "      weighted avg       0.56      0.56      0.56      3798\n",
      "\n",
      "\n",
      "Example of a correctly classified datapoint:\n",
      "True Label: Neutral\n",
      "Predicted Label: Neutral\n",
      "Text: Plano Independent School District is extending #planotx students' spring break by a week through March 20. https://t.co/PcfSM6u7Z4 #covid_19 #planoisd https://t.co/6pmBAFEyBD\n",
      "\n",
      "Example of a wrongly classified datapoint:\n",
      "True Label: Extremely Negative\n",
      "Predicted Label: Negative\n",
      "Text: Between cuts to SNAP and COVID-19, we expect a large increase in demand for food in the coming weeks. Fuel our fight against hunger and food waste at https://t.co/E5ybQIDXwh ? https://t.co/nubL1BhbId\n"
     ]
    }
   ],
   "source": [
    "# Tuned tfidf-LogReg\n",
    "y_hat_test_tfidf_LogReg_bt = logreg_bt.predict(X_test_tfidf)\n",
    "\n",
    "report(y_hat_test_tfidf_LogReg_bt, y_test, 'Tuned tfidf_log on test set', X_text = Original_Tweet_testfile)\n",
    "\n",
    "Tuned_tfidf__LogReg_ac = accuracy_score(y_test,y_hat_test_tfidf_LogReg_bt)\n",
    "test_ac_dict['Tuned_tfidf_LogReg'] = Tuned_tfidf__LogReg_ac"
   ]
  },
  {
   "cell_type": "code",
   "execution_count": 51,
   "metadata": {},
   "outputs": [
    {
     "name": "stdout",
     "output_type": "stream",
     "text": [
      "The classification report for Tuned count_log on test set.\n",
      "Accuracy: 0.5652975250131648\n",
      "\n",
      "                    precision    recall  f1-score   support\n",
      "\n",
      "Extremely Negative       0.62      0.63      0.62       592\n",
      "Extremely Positive       0.68      0.65      0.66       599\n",
      "          Negative       0.52      0.41      0.46      1041\n",
      "           Neutral       0.59      0.71      0.64       619\n",
      "          Positive       0.49      0.54      0.51       947\n",
      "\n",
      "          accuracy                           0.57      3798\n",
      "         macro avg       0.58      0.59      0.58      3798\n",
      "      weighted avg       0.56      0.57      0.56      3798\n",
      "\n",
      "\n",
      "Example of a correctly classified datapoint:\n",
      "True Label: Positive\n",
      "Predicted Label: Positive\n",
      "Text: \"Donald Trump reportedly tried to poach German scientists working on a cure for the coronavirus so he could secure exclusive rights to a potential vaccine for the US only.\" #Coronavirus \n",
      "\n",
      "To trump, a human life exists solely as a consumer or his pawn.\n",
      "\n",
      "https://t.co/hdgF5e6OFt\n",
      "\n",
      "Example of a wrongly classified datapoint:\n",
      "True Label: Extremely Negative\n",
      "Predicted Label: Negative\n",
      "Text: Panic buying in supermarkets is making it impossible for food buyers to forecast demand and putting additional pressure on an already stretched supply chain. There is enough for everyone at normal demand levels. Please think of others. Were all in this together. #coronavirus\n"
     ]
    }
   ],
   "source": [
    "# Tuned count-LogReg\n",
    "y_hat_test_tfidf_LogReg_t = logreg_t.predict(X_test_count)\n",
    "\n",
    "report(y_hat_test_tfidf_LogReg_t, y_test, 'Tuned count_log on test set', X_text = Original_Tweet_testfile)\n",
    "\n",
    "Tuned_count__LogReg_ac = accuracy_score(y_test,y_hat_test_tfidf_LogReg_t)\n",
    "test_ac_dict['Tuned_count_LogReg'] = Tuned_count__LogReg_ac"
   ]
  },
  {
   "cell_type": "code",
   "execution_count": 52,
   "metadata": {},
   "outputs": [
    {
     "name": "stdout",
     "output_type": "stream",
     "text": [
      "The classification report for Default tfidf_SVM on test set.\n",
      "Accuracy: 0.5023696682464455\n",
      "\n",
      "                    precision    recall  f1-score   support\n",
      "\n",
      "Extremely Negative       0.46      0.80      0.59       592\n",
      "Extremely Positive       0.52      0.76      0.62       599\n",
      "          Negative       0.51      0.25      0.34      1041\n",
      "           Neutral       0.55      0.67      0.60       619\n",
      "          Positive       0.49      0.32      0.39       947\n",
      "\n",
      "          accuracy                           0.50      3798\n",
      "         macro avg       0.50      0.56      0.51      3798\n",
      "      weighted avg       0.50      0.50      0.48      3798\n",
      "\n",
      "\n",
      "Example of a correctly classified datapoint:\n",
      "True Label: Extremely Negative\n",
      "Predicted Label: Extremely Negative\n",
      "Text: I need people to be less stupid about COVID-19. No, you do not need to stock up on TP or bottled water. Personally, I'll be buying some extra food that'll keep a while (canned, frozen, dry goods, etc.) and OTC and prescription meds that might run out if I'm quarantined. *shrug*\n",
      "\n",
      "Example of a wrongly classified datapoint:\n",
      "True Label: Negative\n",
      "Predicted Label: Extremely Negative\n",
      "Text: Seeing so many people at the supermarket today stocking up on so much makes me wonder how much is gonna be wasted before this blows over...\n",
      "\n",
      "#CoronavirusPandemic \n",
      "#Covid_19\n"
     ]
    }
   ],
   "source": [
    "# Default tfidf-based SVM\n",
    "SVM.fit(X_train_tfidf, y_train)\n",
    "y_hat_test_tfidf_SVM = SVM.predict(X_test_tfidf)\n",
    "\n",
    "report(y_hat_test_tfidf_SVM, y_test, 'Default tfidf_SVM on test set', X_text = Original_Tweet_testfile)\n",
    "\n",
    "default_tfidf_SVM_ac = accuracy_score(y_test,y_hat_test_tfidf_SVM)\n",
    "test_ac_dict['Default_tfidf_SVM'] = default_tfidf_SVM_ac"
   ]
  },
  {
   "cell_type": "code",
   "execution_count": 53,
   "metadata": {},
   "outputs": [
    {
     "name": "stdout",
     "output_type": "stream",
     "text": [
      "The classification report for Default count_SVM on test set.\n",
      "Accuracy: 0.5260663507109005\n",
      "\n",
      "                    precision    recall  f1-score   support\n",
      "\n",
      "Extremely Negative       0.54      0.65      0.59       592\n",
      "Extremely Positive       0.66      0.58      0.62       599\n",
      "          Negative       0.47      0.37      0.41      1041\n",
      "           Neutral       0.56      0.67      0.61       619\n",
      "          Positive       0.47      0.49      0.48       947\n",
      "\n",
      "          accuracy                           0.53      3798\n",
      "         macro avg       0.54      0.55      0.54      3798\n",
      "      weighted avg       0.52      0.53      0.52      3798\n",
      "\n",
      "\n",
      "Example of a correctly classified datapoint:\n",
      "True Label: Negative\n",
      "Predicted Label: Negative\n",
      "Text: When herd mentality makes you want to stockpile unnecessarily, bear in mind the only pasta left on the supermarket shelves this morning is Italian, this is how ill-informed ppl are about #Covid_19.  Take a beat,  check out the @CDCgov website and #buyItalian ? ?\n",
      "\n",
      "Example of a wrongly classified datapoint:\n",
      "True Label: Positive\n",
      "Predicted Label: Neutral\n",
      "Text: ?? Information from the Competition and Consumer Protection Commission (CCPC) @CCPCIreland for those with package holiday bookings. #COVID?19 \n",
      "\n",
      "https://t.co/c5T3tcCL2D\n"
     ]
    }
   ],
   "source": [
    "# Default count-based SVM\n",
    "SVM.fit(X_train_count, y_train)\n",
    "y_hat_test_count_SVM = SVM.predict(X_test_count)\n",
    "\n",
    "report(y_hat_test_count_SVM, y_test, 'Default count_SVM on test set', X_text = Original_Tweet_testfile)\n",
    "\n",
    "default_count_SVM_ac = accuracy_score(y_test,y_hat_test_count_SVM)\n",
    "test_ac_dict['Default_count_SVM'] = default_count_SVM_ac"
   ]
  },
  {
   "cell_type": "code",
   "execution_count": 55,
   "metadata": {},
   "outputs": [
    {
     "name": "stdout",
     "output_type": "stream",
     "text": [
      "The classification report for Tuned tfidf_SVM_2 on test set.\n",
      "Accuracy: 0.5450236966824644\n",
      "\n",
      "                    precision    recall  f1-score   support\n",
      "\n",
      "Extremely Negative       0.56      0.65      0.60       592\n",
      "Extremely Positive       0.61      0.67      0.63       599\n",
      "          Negative       0.55      0.35      0.43      1041\n",
      "           Neutral       0.57      0.71      0.63       619\n",
      "          Positive       0.47      0.51      0.49       947\n",
      "\n",
      "          accuracy                           0.55      3798\n",
      "         macro avg       0.55      0.58      0.56      3798\n",
      "      weighted avg       0.55      0.55      0.54      3798\n",
      "\n",
      "\n",
      "Example of a correctly classified datapoint:\n",
      "True Label: Neutral\n",
      "Predicted Label: Neutral\n",
      "Text: How has the impacted consumer spend across airlines cruise lines restaurants food delivery and more See our just published report\n",
      "\n",
      "Example of a wrongly classified datapoint:\n",
      "True Label: Extremely Positive\n",
      "Predicted Label: Positive\n",
      "Text: I understand that this virus is not to be taken lightly but people are acting like its a zombie apocalypse. This is the water aisle at my local grocery store. \n",
      "\n",
      "Stay safe but please dont panic. Well get through this together. #panicbuying #COVID2019 #CoronaAlert https://t.co/qHzfn1Jtrw\n"
     ]
    }
   ],
   "source": [
    "# Tuned tfidf-based SVM_2 Model\n",
    "y_hat_test_tfidf_SVM_2 = SVM_2.predict(X_test_tfidf)\n",
    "\n",
    "report(y_hat_test_tfidf_SVM_2, y_test, 'Tuned tfidf_SVM_2 on test set', X_text = Original_Tweet_testfile)\n",
    "\n",
    "tuned_tfidf_SVM_2_ac = accuracy_score(y_test,y_hat_test_tfidf_SVM_2)\n",
    "test_ac_dict['Tuned_tfidf_SVM_2'] = tuned_tfidf_SVM_2_ac"
   ]
  },
  {
   "cell_type": "code",
   "execution_count": 56,
   "metadata": {},
   "outputs": [
    {
     "name": "stdout",
     "output_type": "stream",
     "text": [
      "The classification report for Tuned count_SVM_3 on test set.\n",
      "Accuracy: 0.5613480779357557\n",
      "\n",
      "                    precision    recall  f1-score   support\n",
      "\n",
      "Extremely Negative       0.62      0.69      0.65       592\n",
      "Extremely Positive       0.70      0.69      0.69       599\n",
      "          Negative       0.50      0.39      0.44      1041\n",
      "           Neutral       0.53      0.81      0.64       619\n",
      "          Positive       0.51      0.43      0.47       947\n",
      "\n",
      "          accuracy                           0.56      3798\n",
      "         macro avg       0.57      0.60      0.58      3798\n",
      "      weighted avg       0.56      0.56      0.55      3798\n",
      "\n",
      "\n",
      "Example of a correctly classified datapoint:\n",
      "True Label: Neutral\n",
      "Predicted Label: Neutral\n",
      "Text: BBC News - #Coronavirus: #Iceland store to open early for older shoppers https://t.co/PwaNlE6BOD #COVID19 #2019nCoV #CoronavirusUpdates #CoronavirusPandemic #PublicHealth #retail #age #NorthernIreland\n",
      "\n",
      "Example of a wrongly classified datapoint:\n",
      "True Label: Negative\n",
      "Predicted Label: Positive\n",
      "Text: Stock a few bottles of #Quash 100% natural hand sanitizer spray 4 your desk home purse or travel -flight (spray TV screen, food tray etc.) Lab proven to kill toughest germs viruses Available https://t.co/PHybAU8cfB\n",
      "#Covid_19 #Coronavirus #panicbuying https://t.co/jIdYTbrApZ\n"
     ]
    }
   ],
   "source": [
    "# Tuned count-based SVM_3 Model\n",
    "y_hat_test_tfidf_SVM_3 = SVM_3.predict(X_test_count)\n",
    "\n",
    "report(y_hat_test_tfidf_SVM_3, y_test, 'Tuned count_SVM_3 on test set', X_text = Original_Tweet_testfile)\n",
    "\n",
    "tuned_count_SVM_3_ac = accuracy_score(y_test,y_hat_test_tfidf_SVM_3)\n",
    "test_ac_dict['Tuned_count_SVM_3'] = tuned_count_SVM_3_ac"
   ]
  },
  {
   "cell_type": "code",
   "execution_count": 58,
   "metadata": {},
   "outputs": [
    {
     "name": "stdout",
     "output_type": "stream",
     "text": [
      "The classification report for Default tfidf_MLP on test set.\n",
      "Accuracy: 0.5758293838862559\n",
      "\n",
      "                    precision    recall  f1-score   support\n",
      "\n",
      "Extremely Negative       0.65      0.58      0.61       592\n",
      "Extremely Positive       0.65      0.62      0.63       599\n",
      "          Negative       0.54      0.54      0.54      1041\n",
      "           Neutral       0.59      0.58      0.59       619\n",
      "          Positive       0.52      0.58      0.55       947\n",
      "\n",
      "          accuracy                           0.58      3798\n",
      "         macro avg       0.59      0.58      0.59      3798\n",
      "      weighted avg       0.58      0.58      0.58      3798\n",
      "\n",
      "\n",
      "Example of a correctly classified datapoint:\n",
      "True Label: Negative\n",
      "Predicted Label: Negative\n",
      "Text: Due to growing concerns around COVID-19, Creemore Springs is taking additional steps to be extra vigilant to maintain the health &amp; well being of staff &amp; customers. Our Retail Store remains open, but tours are currently suspended. Updates will be provided on social channels. https://t.co/Wki0EIX6Xn\n",
      "\n",
      "Example of a wrongly classified datapoint:\n",
      "True Label: Extremely Positive\n",
      "Predicted Label: Positive\n",
      "Text: Here A Good and Must Buy Deal For You. Get WHO Recommended Instant Hand Sanitizer by Aster at Just Rs.198. \n",
      "https://t.co/IiQJjiKCgt\n",
      "\n",
      "#shop #shopping #onlineshop #savinhs #coronavirus #staysafe #discounts #deals #offers #CoronaOutbreak #coronavirusinindia #StayHealthy #FridayVibes https://t.co/mza1d58M40\n"
     ]
    },
    {
     "name": "stderr",
     "output_type": "stream",
     "text": [
      "F:\\anaconda\\Lib\\site-packages\\sklearn\\neural_network\\_multilayer_perceptron.py:546: ConvergenceWarning: lbfgs failed to converge (status=1):\n",
      "STOP: TOTAL NO. of ITERATIONS REACHED LIMIT.\n",
      "\n",
      "Increase the number of iterations (max_iter) or scale the data as shown in:\n",
      "    https://scikit-learn.org/stable/modules/preprocessing.html\n",
      "  self.n_iter_ = _check_optimize_result(\"lbfgs\", opt_res, self.max_iter)\n"
     ]
    }
   ],
   "source": [
    "# Default tfidf-based MLP model\n",
    "MLP.fit(X_train_tfidf, y_train)\n",
    "y_hat_test_tfidf_MLP = MLP.predict(X_test_tfidf)\n",
    "\n",
    "report(y_hat_test_tfidf_MLP, y_test, 'Default tfidf_MLP on test set', X_text = Original_Tweet_testfile)\n",
    "\n",
    "default_tfidf_MLP_ac = accuracy_score(y_test,y_hat_test_tfidf_MLP)\n",
    "test_ac_dict['Default_tfidf_MLP'] = default_tfidf_MLP_ac"
   ]
  },
  {
   "cell_type": "code",
   "execution_count": 59,
   "metadata": {},
   "outputs": [
    {
     "name": "stdout",
     "output_type": "stream",
     "text": [
      "The classification report for Default count_MLP on test set.\n",
      "Accuracy: 0.5626645602948921\n",
      "\n",
      "                    precision    recall  f1-score   support\n",
      "\n",
      "Extremely Negative       0.61      0.60      0.60       592\n",
      "Extremely Positive       0.68      0.63      0.65       599\n",
      "          Negative       0.50      0.48      0.49      1041\n",
      "           Neutral       0.59      0.62      0.60       619\n",
      "          Positive       0.52      0.56      0.54       947\n",
      "\n",
      "          accuracy                           0.56      3798\n",
      "         macro avg       0.58      0.58      0.58      3798\n",
      "      weighted avg       0.56      0.56      0.56      3798\n",
      "\n",
      "\n",
      "Example of a correctly classified datapoint:\n",
      "True Label: Extremely Positive\n",
      "Predicted Label: Extremely Positive\n",
      "Text: I m working on a story about how might change our relationship with tech forever i e online GP appointments remote working online shopping etc I m looking for companies who are using tech in an innovative way If this is you please send me a submission\n",
      "\n",
      "Example of a wrongly classified datapoint:\n",
      "True Label: Extremely Negative\n",
      "Predicted Label: Negative\n",
      "Text: STOP PANIC SHOPPING There s no need for it Basic supplies for medical professionals are now disappearing Just take your basic precautions No need to stock 2 years worth of food water or TP Be better RT me\n"
     ]
    },
    {
     "name": "stderr",
     "output_type": "stream",
     "text": [
      "F:\\anaconda\\Lib\\site-packages\\sklearn\\neural_network\\_multilayer_perceptron.py:546: ConvergenceWarning: lbfgs failed to converge (status=1):\n",
      "STOP: TOTAL NO. of ITERATIONS REACHED LIMIT.\n",
      "\n",
      "Increase the number of iterations (max_iter) or scale the data as shown in:\n",
      "    https://scikit-learn.org/stable/modules/preprocessing.html\n",
      "  self.n_iter_ = _check_optimize_result(\"lbfgs\", opt_res, self.max_iter)\n"
     ]
    }
   ],
   "source": [
    "# Default count-based MLP model\n",
    "MLP.fit(X_train_count, y_train)\n",
    "y_hat_test_count_MLP = MLP.predict(X_test_count)\n",
    "\n",
    "report(y_hat_test_count_MLP, y_test, 'Default count_MLP on test set', X_text = Original_Tweet_testfile)\n",
    "\n",
    "default_count_MLP_ac = accuracy_score(y_test,y_hat_test_count_MLP)\n",
    "test_ac_dict['Default_count_MLP'] = default_count_MLP_ac"
   ]
  },
  {
   "cell_type": "code",
   "execution_count": 61,
   "metadata": {},
   "outputs": [
    {
     "name": "stdout",
     "output_type": "stream",
     "text": [
      "The classification report for Tuned tfidf-based MLP_2 model on test set.\n",
      "Accuracy: 0.5803054239073197\n",
      "\n",
      "                    precision    recall  f1-score   support\n",
      "\n",
      "Extremely Negative       0.64      0.62      0.63       592\n",
      "Extremely Positive       0.66      0.63      0.65       599\n",
      "          Negative       0.55      0.52      0.53      1041\n",
      "           Neutral       0.59      0.62      0.61       619\n",
      "          Positive       0.53      0.57      0.55       947\n",
      "\n",
      "          accuracy                           0.58      3798\n",
      "         macro avg       0.59      0.59      0.59      3798\n",
      "      weighted avg       0.58      0.58      0.58      3798\n",
      "\n",
      "\n",
      "Example of a correctly classified datapoint:\n",
      "True Label: Extremely Negative\n",
      "Predicted Label: Extremely Negative\n",
      "Text: Shelves empty at my local DC supermarket. Panic buying is on. #Covid_19 #hysteria\n",
      "\n",
      "Example of a wrongly classified datapoint:\n",
      "True Label: Extremely Negative\n",
      "Predicted Label: Negative\n",
      "Text: He place youre going to catch the most germs......the grocery store.  No self distancing here!  Ugh! #Covid_19 #Hoarders #IDidNotBuyToiletPaper\n"
     ]
    }
   ],
   "source": [
    "# Tuned tfidf-based MLP_2 model\n",
    "y_hat_test_tfidf_MLP_2 = MLP_2.predict(X_test_tfidf)\n",
    "\n",
    "report(y_hat_test_tfidf_MLP_2, y_test, 'Tuned tfidf-based MLP_2 model on test set', X_text = Original_Tweet_testfile)\n",
    "\n",
    "tuned_tfidf_MLP_ac = accuracy_score(y_test,y_hat_test_tfidf_MLP_2)\n",
    "test_ac_dict['Tuned_tfidf_MLP_2'] = tuned_tfidf_MLP_ac"
   ]
  },
  {
   "cell_type": "code",
   "execution_count": 64,
   "metadata": {},
   "outputs": [
    {
     "name": "stdout",
     "output_type": "stream",
     "text": [
      "The classification report for Tuned tfidf-based MLP_3 model on test set.\n",
      "Accuracy: 0.6034755134281201\n",
      "\n",
      "                    precision    recall  f1-score   support\n",
      "\n",
      "Extremely Negative       0.70      0.62      0.66       592\n",
      "Extremely Positive       0.69      0.61      0.65       599\n",
      "          Negative       0.59      0.56      0.57      1041\n",
      "           Neutral       0.62      0.65      0.64       619\n",
      "          Positive       0.52      0.61      0.56       947\n",
      "\n",
      "          accuracy                           0.60      3798\n",
      "         macro avg       0.63      0.61      0.62      3798\n",
      "      weighted avg       0.61      0.60      0.61      3798\n",
      "\n",
      "\n",
      "Example of a correctly classified datapoint:\n",
      "True Label: Positive\n",
      "Predicted Label: Positive\n",
      "Text: Airlines grounded. Stock market plummeting. Events cancelled. Threat of food shortages. #Covid_19 is like a test run for the #GreenNewDeal. Upshot. Carbon footprint for the US is going to look great. @AOC\n",
      "\n",
      "Example of a wrongly classified datapoint:\n",
      "True Label: Negative\n",
      "Predicted Label: Neutral\n",
      "Text: Strange how all the movies and books told us when the end comes we need to stock up on food, water and ammo but then everyone runs out a grabs all the toilet paper. #coronavirus #CoronaVirusCanada https://t.co/qpqDvMjNMm\n",
      "{'Baseline_tfidf_LogReg': 0.5284360189573459, 'Baseline_count_LogReg': 0.5413375460768826, 'Tuned_tfidf_LogReg': 0.5629278567667193, 'Tuned_count_LogReg': 0.5652975250131648, 'Default_tfidf_SVM': 0.5023696682464455, 'Default_count_SVM': 0.5260663507109005, 'Tuned_tfidf_SVM_2': 0.5450236966824644, 'Tuned_count_SVM_3': 0.5613480779357557, 'Default_tfidf_MLP': 0.5758293838862559, 'Default_count_MLP': 0.5626645602948921, 'Tuned_tfidf_MLP_2': 0.5803054239073197, 'Tuned_tfidf_MLP_3': 0.6034755134281201}\n"
     ]
    }
   ],
   "source": [
    "# Tuned tfidf-based MLP_3 model\n",
    "y_hat_test_tfidf_MLP_3 = MLP_3.predict(X_test_tfidf)\n",
    "\n",
    "report(y_hat_test_tfidf_MLP_3, y_test, 'Tuned tfidf-based MLP_3 model on test set', X_text = Original_Tweet_testfile)\n",
    "\n",
    "tuned_tfidf_MLP_ac_3 = accuracy_score(y_test,y_hat_test_tfidf_MLP_3)\n",
    "test_ac_dict['Tuned_tfidf_MLP_3'] = tuned_tfidf_MLP_ac_3"
   ]
  },
  {
   "cell_type": "code",
   "execution_count": 66,
   "metadata": {},
   "outputs": [
    {
     "name": "stdout",
     "output_type": "stream",
     "text": [
      "The classification report for Tuned count-based MLP_4 model on test set.\n",
      "Accuracy: 0.607161664033702\n",
      "\n",
      "                    precision    recall  f1-score   support\n",
      "\n",
      "Extremely Negative       0.69      0.61      0.65       592\n",
      "Extremely Positive       0.74      0.63      0.68       599\n",
      "          Negative       0.56      0.57      0.56      1041\n",
      "           Neutral       0.67      0.62      0.64       619\n",
      "          Positive       0.53      0.62      0.57       947\n",
      "\n",
      "          accuracy                           0.61      3798\n",
      "         macro avg       0.64      0.61      0.62      3798\n",
      "      weighted avg       0.62      0.61      0.61      3798\n",
      "\n",
      "\n",
      "Example of a correctly classified datapoint:\n",
      "True Label: Neutral\n",
      "Predicted Label: Neutral\n",
      "Text: For More details -  https://t.co/1cz6zgOSw6\n",
      "\n",
      "#onlineshopping #Shipping #shippingfromindia #coronavirus #internationalshipping https://t.co/ef7zp5hMt5\n",
      "\n",
      "Example of a wrongly classified datapoint:\n",
      "True Label: Negative\n",
      "Predicted Label: Positive\n",
      "Text: Watch out for those who take advantage of people. They are like this virus and spread fast. There is enough stock out there and if you stockpile refrigerated food you will die of botulism.\n",
      "#Covid_19 #panicbuying #CoronaOutbreak #stopstockpiling\n",
      "#selfisolating\n"
     ]
    }
   ],
   "source": [
    "# Tuned count-based MLP_4 model\n",
    "y_hat_test_count_MLP_4 = MLP_4.predict(X_test_count)\n",
    "\n",
    "report(y_hat_test_count_MLP_4, y_test, 'Tuned count-based MLP_4 model on test set', X_text = Original_Tweet_testfile)\n",
    "\n",
    "tuned_count_MLP_ac_4 = accuracy_score(y_test,y_hat_test_count_MLP_4)\n",
    "test_ac_dict['Tuned_count_MLP_4'] = tuned_count_MLP_ac_4"
   ]
  },
  {
   "cell_type": "code",
   "execution_count": 67,
   "metadata": {},
   "outputs": [
    {
     "name": "stdout",
     "output_type": "stream",
     "text": [
      "{'Baseline_tfidf_LogReg': 0.5284360189573459, 'Baseline_count_LogReg': 0.5413375460768826, 'Tuned_tfidf_LogReg': 0.5629278567667193, 'Tuned_count_LogReg': 0.5652975250131648, 'Default_tfidf_SVM': 0.5023696682464455, 'Default_count_SVM': 0.5260663507109005, 'Tuned_tfidf_SVM_2': 0.5450236966824644, 'Tuned_count_SVM_3': 0.5613480779357557, 'Default_tfidf_MLP': 0.5758293838862559, 'Default_count_MLP': 0.5626645602948921, 'Tuned_tfidf_MLP_2': 0.5803054239073197, 'Tuned_tfidf_MLP_3': 0.6034755134281201, 'Tuned_count_MLP_4': 0.607161664033702}\n"
     ]
    }
   ],
   "source": [
    "print(test_ac_dict)"
   ]
  },
  {
   "cell_type": "code",
   "execution_count": 68,
   "metadata": {},
   "outputs": [
    {
     "name": "stdout",
     "output_type": "stream",
     "text": [
      "Confusion matrix, without normalization\n",
      "[[364   5 174  12  37]\n",
      " [  4 376  27   5 187]\n",
      " [131  21 595 100 194]\n",
      " [ 10   1 113 385 110]\n",
      " [ 16 108 161  76 586]]\n",
      "Normalized confusion matrix\n",
      "[[0.61 0.01 0.29 0.02 0.06]\n",
      " [0.01 0.63 0.05 0.01 0.31]\n",
      " [0.13 0.02 0.57 0.1  0.19]\n",
      " [0.02 0.   0.18 0.62 0.18]\n",
      " [0.02 0.11 0.17 0.08 0.62]]\n"
     ]
    },
    {
     "data": {
      "image/png": "[encoded data removed]",
      "text/plain": [
       "<Figure size 640x480 with 2 Axes>"
      ]
     },
     "metadata": {},
     "output_type": "display_data"
    },
    {
     "data": {
      "image/png": "[encoded data removed]",
      "text/plain": [
       "<Figure size 640x480 with 2 Axes>"
      ]
     },
     "metadata": {},
     "output_type": "display_data"
    }
   ],
   "source": [
    "# Confusion Matrix and plots\n",
    "import matplotlib.pyplot as plt\n",
    "import numpy as np\n",
    "from sklearn.metrics import ConfusionMatrixDisplay\n",
    "\n",
    "np.set_printoptions(precision=2)\n",
    "# Retrieve labels using tolist and set operation\n",
    "class_names = set(df_test['Sentiment'].values.tolist())\n",
    "\n",
    "# Plot non-normalized confusion matrix\n",
    "titles_options = [\n",
    "    (\"Confusion matrix, without normalization\", None),\n",
    "    (\"Normalized confusion matrix\", \"true\"),\n",
    "]\n",
    "for title, normalize in titles_options:\n",
    "    disp = ConfusionMatrixDisplay.from_estimator(\n",
    "        MLP_4,\n",
    "        X_test_count,\n",
    "        y_test,\n",
    "        display_labels=class_names,\n",
    "        cmap=plt.cm.Blues,\n",
    "        normalize=normalize,\n",
    "    )\n",
    "    disp.ax_.set_title(title)\n",
    "    plt.xticks(rotation=45, ha='right')\n",
    "\n",
    "    print(title)\n",
    "    print(disp.confusion_matrix)\n",
    "\n",
    "\n",
    "\n",
    "plt.show()"
   ]
  },
  {
   "cell_type": "code",
   "execution_count": 81,
   "metadata": {},
   "outputs": [
    {
     "data": {
      "image/png": "[encoded data removed]",
      "text/plain": [
       "<Figure size 640x480 with 1 Axes>"
      ]
     },
     "metadata": {},
     "output_type": "display_data"
    }
   ],
   "source": [
    "# A summary of accuracies of all trained models on bar chart\n",
    "sorted_models = sorted(test_ac_dict.items(), key=lambda x: x[1])\n",
    "\n",
    "x = [item[0] for item in sorted_models]\n",
    "y = [item[1] for item in sorted_models]\n",
    "\n",
    "# Setting baseline models as red\n",
    "for i, val in enumerate(y):\n",
    "    if i == 2: \n",
    "        plt.bar(x[i], val, color='red')\n",
    "    elif i == 3:\n",
    "        plt.bar(x[i], val, color='red')\n",
    "    else:\n",
    "        plt.bar(x[i], val, color = 'grey')\n",
    "\n",
    "plt.title('Histogram of Model Accuracies')\n",
    "plt.xlabel('Model')\n",
    "plt.ylabel('Accuracy')\n",
    "\n",
    "for i, v in enumerate(y):\n",
    "    # f\"{v:.2f}\" keep two decimals\n",
    "    plt.text(i, v + 0.005, f\"{v:.2f}\", ha='center', va='bottom')\n",
    "    \n",
    "plt.xticks(rotation=45, ha='right')\n",
    "\n",
    "plt.show()"
   ]
  },
  {
   "cell_type": "markdown",
   "metadata": {
    "id": "JRm9J4-o4-2C"
   },
   "source": [
    "---"
   ]
  },
  {
   "cell_type": "markdown",
   "metadata": {
    "collapsed": true,
    "id": "nKxvAsxg4-2C",
    "jupyter": {
     "outputs_hidden": true
    }
   },
   "source": [
    "## Question 8 (10 points)\n",
    "\n",
    "When the results of two models are similar, and anyway as a good practice, you may want to test whether their results **differ significantly**. If you can afford to do multiple paired runs of both models on different slices of the data (or different samples), a good approach is the [Wilcoxon signed-rank test](https://docs.scipy.org/doc/scipy/reference/generated/scipy.stats.wilcoxon.html).\n",
    "\n",
    "* Select two (or more) of your classifiers which have somewhat similar results on your validation data. Make sure to select two methods which do not take too long to run.\n",
    "* Merge your train and validation data, and implement a function to shuffle and sample a % of datapoints (with labels) from it.\n",
    "* Iterate 5-10 times the following steps:\n",
    "   - Shuffle and sample 80% of your training datapoints.\n",
    "   - Train instances of the two classifiers on the same 80% sample.\n",
    "   - Assess their accuracy on the test dataset and store these results (into two separate lists for each classifier).\n",
    "* Perform a Wilcoxon test on these results and discuss whether the two classifiers are significantly different on this task and dataset."
   ]
  },
  {
   "cell_type": "code",
   "execution_count": 82,
   "metadata": {
    "id": "ONz1PmOM4-2E"
   },
   "outputs": [
    {
     "name": "stderr",
     "output_type": "stream",
     "text": [
      "F:\\anaconda\\Lib\\site-packages\\sklearn\\feature_extraction\\text.py:525: UserWarning: The parameter 'token_pattern' will not be used since 'tokenizer' is not None'\n",
      "  warnings.warn(\n",
      "F:\\anaconda\\Lib\\site-packages\\sklearn\\feature_extraction\\text.py:525: UserWarning: The parameter 'token_pattern' will not be used since 'tokenizer' is not None'\n",
      "  warnings.warn(\n",
      "F:\\anaconda\\Lib\\site-packages\\sklearn\\feature_extraction\\text.py:525: UserWarning: The parameter 'token_pattern' will not be used since 'tokenizer' is not None'\n",
      "  warnings.warn(\n",
      "F:\\anaconda\\Lib\\site-packages\\sklearn\\feature_extraction\\text.py:525: UserWarning: The parameter 'token_pattern' will not be used since 'tokenizer' is not None'\n",
      "  warnings.warn(\n",
      "F:\\anaconda\\Lib\\site-packages\\sklearn\\feature_extraction\\text.py:525: UserWarning: The parameter 'token_pattern' will not be used since 'tokenizer' is not None'\n",
      "  warnings.warn(\n"
     ]
    },
    {
     "name": "stdout",
     "output_type": "stream",
     "text": [
      "Count-based SVM_3 accuracies: [0.5529225908372828, 0.5529225908372828, 0.5529225908372828, 0.5529225908372828, 0.5529225908372828]\n",
      "Tuned Count-based LogReg accuracies: [0.5713533438651922, 0.5721432332806741, 0.5721432332806741, 0.5716166403370195, 0.5716166403370195]\n",
      "Wilcoxon test statistic: 0.0\n",
      "p-value: 0.0625\n",
      "There is no significant difference between the two classifiers.\n"
     ]
    }
   ],
   "source": [
    "# your code here\n",
    "from sklearn.utils import shuffle\n",
    "from scipy.stats import wilcoxon\n",
    "\n",
    "# We choose count-based SVM_3 and Tuned count-based LogReg, build functions based on them\n",
    "\n",
    "def shuffle_and_sample(data, labels, percent):\n",
    "    # Count_based, count-vectorizer\n",
    "    X_merged = count_vectorizer.fit_transform(data)\n",
    "    y_merged = labels\n",
    "\n",
    "    # Shuffle and sample percent of data\n",
    "    X_sampled, y_sampled = shuffle(X_merged, y_merged, random_state=42)\n",
    "    sample_size = int(X_sampled.shape[0] * percent)\n",
    "    X_sampled = X_sampled[:sample_size]\n",
    "    y_sampled = y_sampled[:sample_size]\n",
    "    \n",
    "    return X_sampled, y_sampled\n",
    "\n",
    "\n",
    "def evaluate_classifier(clf, X_test, y_test):\n",
    "    # Count_based, count-vectorizer\n",
    "    X_test_vec = count_vectorizer.transform(X_test)\n",
    "    y_pred = clf.predict(X_test_vec)\n",
    "    accuracy = accuracy_score(y_test, y_pred)\n",
    "    return accuracy\n",
    "\n",
    "SVM_3_accuracies = []\n",
    "tuned_logreg_count_accuracies = []\n",
    "\n",
    "for i in range(5):\n",
    "    # Iterate 5 times, get 5 sample set pairs and classify 5 times\n",
    "    X_sampled, y_sampled = shuffle_and_sample(Original_Tweet_trainfile, Sentiment_trainfile, 0.8)\n",
    "    SVM_3.fit(X_sampled, y_sampled)\n",
    "    logreg_t.fit(X_sampled, y_sampled)\n",
    "    \n",
    "    # Perform evaluations on the test set and add them to lists    \n",
    "    ac_SVM_3 = evaluate_classifier(SVM_3, Original_Tweet_testfile, Sentiment_testfile)\n",
    "    ac_logregt_c = evaluate_classifier(logreg_t, Original_Tweet_testfile, Sentiment_testfile)\n",
    "    SVM_3_accuracies.append(ac_SVM_3)\n",
    "    tuned_logreg_count_accuracies.append(ac_logregt_c)\n",
    "\n",
    "statistic, p_value = wilcoxon(SVM_3_accuracies, tuned_logreg_count_accuracies)\n",
    "\n",
    "print(\"Count-based SVM_3 accuracies:\", SVM_3_accuracies)\n",
    "print(\"Tuned Count-based LogReg accuracies:\", tuned_logreg_count_accuracies)\n",
    "print(\"Wilcoxon test statistic:\", statistic)\n",
    "print(\"p-value:\", p_value)\n",
    "\n",
    "if p_value < 0.05:\n",
    "    print(\"There is a significant difference between the two classifiers.\")\n",
    "else:\n",
    "    print(\"There is no significant difference between the two classifiers.\")"
   ]
  },
  {
   "cell_type": "markdown",
   "metadata": {
    "id": "e2z2g9eF4-2E"
   },
   "source": [
    "---"
   ]
  }
 ],
 "metadata": {
  "colab": {
   "collapsed_sections": [],
   "name": "notebook_a3.ipynb",
   "provenance": []
  },
  "kernelspec": {
   "display_name": "Python 3 (ipykernel)",
   "language": "python",
   "name": "python3"
  },
  "language_info": {
   "codemirror_mode": {
    "name": "ipython",
    "version": 3
   },
   "file_extension": ".py",
   "mimetype": "text/x-python",
   "name": "python",
   "nbconvert_exporter": "python",
   "pygments_lexer": "ipython3",
   "version": "3.11.5"
  },
  "toc": {
   "base_numbering": 1,
   "nav_menu": {},
   "number_sections": true,
   "sideBar": true,
   "skip_h1_title": false,
   "title_cell": "Table of Contents",
   "title_sidebar": "Contents",
   "toc_cell": false,
   "toc_position": {},
   "toc_section_display": true,
   "toc_window_display": true
  }
 },
 "nbformat": 4,
 "nbformat_minor": 4
}
